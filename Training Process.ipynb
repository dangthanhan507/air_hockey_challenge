{
 "cells": [
  {
   "cell_type": "markdown",
   "id": "b178cff1-7c07-482c-9a92-a831d02c770a",
   "metadata": {},
   "source": [
    "# Setting up training with codebase"
   ]
  },
  {
   "cell_type": "code",
   "execution_count": 1,
   "id": "42b4aa84-1884-4261-bb7d-abefc0aa23e4",
   "metadata": {},
   "outputs": [],
   "source": [
    "import torch\n",
    "import torch.nn as nn\n",
    "import torch.optim as optim\n",
    "import torch.nn.functional as F"
   ]
  },
  {
   "cell_type": "markdown",
   "id": "b2d4409d-27c1-49a9-96fc-6f430d334780",
   "metadata": {},
   "source": [
    "### Example dummy agent.\n",
    "- this agent holds its current position/vel\n",
    "- doesn't do anything.\n",
    "- used to show how to setup an agent."
   ]
  },
  {
   "cell_type": "code",
   "execution_count": 2,
   "id": "72b6ef3c-31bc-403c-ad91-bbfa1e4ed564",
   "metadata": {},
   "outputs": [],
   "source": [
    "import numpy as np\n",
    "from air_hockey_challenge.framework import AgentBase\n",
    "\n",
    "\n",
    "def build_agent(env_info, **kwargs):\n",
    "    \"\"\"\n",
    "    Function where an Agent that controls the environments should be returned.\n",
    "    The Agent should inherit from the mushroom_rl Agent base env.\n",
    "\n",
    "    Args:\n",
    "        env_info (dict): The environment information\n",
    "        kwargs (any): Additionally setting from agent_config.yml\n",
    "    Returns:\n",
    "         (AgentBase) An instance of the Agent\n",
    "    \"\"\"\n",
    "\n",
    "    return DummyAgent(env_info, **kwargs)\n",
    "\n",
    "'''\n",
    "    We will compute the action which is desired pos & vel.\n",
    "'''\n",
    "\n",
    "class DummyAgent(AgentBase):\n",
    "    def __init__(self, env_info, **kwargs):\n",
    "        super().__init__(env_info, **kwargs)\n",
    "        self.new_start = True\n",
    "        self.hold_position = None\n",
    "\n",
    "    def reset(self):\n",
    "        self.new_start = True\n",
    "        self.hold_position = None\n",
    "\n",
    "    def draw_action(self, obs):\n",
    "        # breaking down observation into something we can use\n",
    "        # self.get_joint_pos(obs), self.get_joint_vel(obs), self.get_puck_pos(obs)\n",
    "        \n",
    "        hold_position = self.get_joint_pos(observation)\n",
    "        velocity = np.zeros_like(hold_position)\n",
    "        action = np.vstack([hold_position, velocity])\n",
    "        return action"
   ]
  },
  {
   "cell_type": "markdown",
   "id": "9127b1d0-430d-44e1-bc87-014f469f7eeb",
   "metadata": {},
   "source": [
    "### Setup PyTorch Neural Network to convert observation space to action space\n",
    "### Requirements\n",
    "- setup Policy Gradient Method\n",
    "- setup Policy\n",
    "    - have a neural network (we are learning that)\n",
    "    - setup TorchApproximator (connect Torch with MushroomRL)\n",
    "    - plug Approximator into a Parametric Policy\n",
    "- Plug Policy into Policy Gradient Method\n",
    "- Train"
   ]
  },
  {
   "cell_type": "code",
   "execution_count": 3,
   "id": "b4e5fc56-992a-487e-9079-4053c51430a0",
   "metadata": {},
   "outputs": [],
   "source": [
    "#super stupid forward pass neural network\n",
    "class ActionGenerator(nn.Module):\n",
    "    def __init__(self, input_dim, output_dim, use_cuda = False, dropout=False, activation = nn.LeakyReLU(0.1) ):\n",
    "        super().__init__()\n",
    "        \n",
    "        num_layers = 20\n",
    "        layer_width = 10\n",
    "        \n",
    "        \n",
    "        layers = [nn.Linear(input_dim, layer_width), activation]\n",
    "        for i in range(num_layers-1):\n",
    "            layers.append(nn.Linear(layer_width, layer_width))\n",
    "            layers.append(activation)\n",
    "        layers.append(nn.Linear(layer_width, output_dim))\n",
    "        layers.append(activation)\n",
    "        \n",
    "        self.model = nn.Sequential(*layers)\n",
    "        \n",
    "    def forward(self, obs):\n",
    "        out = self.model(obs.float())\n",
    "        \n",
    "        # return torch.reshape(out,6)\n",
    "        return out"
   ]
  },
  {
   "cell_type": "code",
   "execution_count": 4,
   "id": "572ca95a-9344-4050-b864-55ed4804c91f",
   "metadata": {},
   "outputs": [
    {
     "name": "stdout",
     "output_type": "stream",
     "text": [
      "torch.Size([1, 6])\n"
     ]
    }
   ],
   "source": [
    "network = ActionGenerator(8,6)\n",
    "print(network(torch.zeros(1,8)).shape)"
   ]
  },
  {
   "cell_type": "markdown",
   "id": "6cb14a80-5035-4580-8f3f-741c2084816f",
   "metadata": {},
   "source": [
    "### Setup DeepDummy Agent"
   ]
  },
  {
   "cell_type": "code",
   "execution_count": 5,
   "id": "dfdb1e0b-b762-4ff7-b405-73c84a189c52",
   "metadata": {},
   "outputs": [
    {
     "name": "stderr",
     "output_type": "stream",
     "text": [
      "/home/andang/.local/lib/python3.8/site-packages/numpy_ml/rl_models/rl_utils.py:25: DependencyWarning: Agents in `numpy_ml.rl_models` use the OpenAI gym for training. To install the gym environments, run `pip install gym`. For more information, see https://github.com/openai/gym.\n",
      "  warnings.warn(fstr, DependencyWarning)\n"
     ]
    }
   ],
   "source": [
    "from mushroom_rl.algorithms.policy_search import REINFORCE\n",
    "from mushroom_rl.policy.deterministic_policy import DeterministicPolicy\n",
    "from mushroom_rl.policy.gaussian_policy import GaussianPolicy\n",
    "from mushroom_rl.approximators.parametric import TorchApproximator\n",
    "from mushroom_rl.utils.optimizers import AdaptiveOptimizer"
   ]
  },
  {
   "cell_type": "code",
   "execution_count": 6,
   "id": "38d2619f-c0eb-43db-983c-171d4ccb12d6",
   "metadata": {},
   "outputs": [
    {
     "name": "stderr",
     "output_type": "stream",
     "text": [
      "                                                                                                                                                                                  \r"
     ]
    }
   ],
   "source": [
    "#setting this up\n",
    "\n",
    "import numpy as np\n",
    "from air_hockey_challenge.framework.air_hockey_challenge_wrapper import AirHockeyChallengeWrapper\n",
    "from air_hockey_challenge.framework.challenge_core import ChallengeCore, CustomChallengeCore\n",
    "from mushroom_rl.algorithms.policy_search import REINFORCE\n",
    "\n",
    "\n",
    "def custom_reward_function(base_env, state, action, next_state, absorbing):\n",
    "    return 9000 #its over 9000\n",
    "\n",
    "mdp = AirHockeyChallengeWrapper(env=\"3dof-hit\", action_type=\"position-velocity\", interpolation_order=3, custom_reward_function=custom_reward_function, debug=True)\n",
    "\n",
    "approximator = TorchApproximator(input_shape=12,\n",
    "                                 output_shape=6,\n",
    "                                 network=ActionGenerator,\n",
    "                                 loss=F.smooth_l1_loss,\n",
    "                                 # optimizer={'class': optim.Adam, 'params': {'lr': .001}},\n",
    "                                 use_cuda=False)\n",
    "policy = GaussianPolicy(approximator,torch.eye(6))\n",
    "old_weights = policy.get_weights()\n",
    "\n",
    "algorithm_params = {'mdp_info': mdp.info,\n",
    "                    'policy': policy,\n",
    "                    'optimizer':  AdaptiveOptimizer(eps=0.01)\n",
    "                   }\n",
    "\n",
    "\n",
    "reinforce = REINFORCE(**algorithm_params)\n",
    "\n",
    "core = CustomChallengeCore(reinforce, mdp)\n",
    "\n",
    "core.learn(n_episodes=10, n_episodes_per_fit=10, render=False) #render allows us to visualize what's going on"
   ]
  },
  {
   "cell_type": "code",
   "execution_count": 7,
   "id": "fe8c098c-5d84-4870-a4cf-6dee74bdde79",
   "metadata": {},
   "outputs": [
    {
     "data": {
      "text/plain": [
       "array([ 0.        ,  0.        ,  0.        , ..., -0.00195193,\n",
       "       -0.01931422, -0.02257159], dtype=float32)"
      ]
     },
     "execution_count": 7,
     "metadata": {},
     "output_type": "execute_result"
    }
   ],
   "source": [
    "policy.get_weights() - old_weights"
   ]
  },
  {
   "cell_type": "code",
   "execution_count": 8,
   "id": "e96d389c-e5e5-43b8-a614-56e2d9ac93fd",
   "metadata": {},
   "outputs": [
    {
     "data": {
      "text/plain": [
       "array([ 0.17344297, -0.28199044,  0.20390825, ..., -0.1298237 ,\n",
       "        0.00962436,  0.11651352], dtype=float32)"
      ]
     },
     "execution_count": 8,
     "metadata": {},
     "output_type": "execute_result"
    }
   ],
   "source": [
    "policy.get_weights()"
   ]
  },
  {
   "cell_type": "code",
   "execution_count": null,
   "id": "605bdd7e-57b1-4c05-9261-13615ca62bdd",
   "metadata": {},
   "outputs": [],
   "source": []
  }
 ],
 "metadata": {
  "kernelspec": {
   "display_name": "Python 3 (ipykernel)",
   "language": "python",
   "name": "python3"
  },
  "language_info": {
   "codemirror_mode": {
    "name": "ipython",
    "version": 3
   },
   "file_extension": ".py",
   "mimetype": "text/x-python",
   "name": "python",
   "nbconvert_exporter": "python",
   "pygments_lexer": "ipython3",
   "version": "3.8.10"
  }
 },
 "nbformat": 4,
 "nbformat_minor": 5
}
