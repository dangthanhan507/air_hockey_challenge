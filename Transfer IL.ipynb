{
 "cells": [
  {
   "cell_type": "markdown",
   "id": "3ff06784-0894-4afb-9204-ff12669d47de",
   "metadata": {},
   "source": [
    "# Test Behavior Cloning Network inside of Air Hockey Challenge"
   ]
  },
  {
   "cell_type": "markdown",
   "id": "28b18297-3bb9-4829-a9a3-d614b217d2b9",
   "metadata": {},
   "source": [
    "Description:\n",
    "- Trained Behavior Cloning network using Policy from Stable Baselines3 (inherits from nn.Module)\n",
    "- Goal is to create a policy in MushroomRL (pipe the network over)\n",
    "- Load the weights\n",
    "- Evaluate network"
   ]
  },
  {
   "cell_type": "markdown",
   "id": "390f6854-a343-40b7-a0e2-9407d17e4586",
   "metadata": {},
   "source": [
    "### Transfer weights"
   ]
  },
  {
   "cell_type": "code",
   "execution_count": 9,
   "id": "5c36e60c-2cca-48ad-9efb-32b55f509770",
   "metadata": {
    "tags": []
   },
   "outputs": [],
   "source": [
    "import torch\n",
    "import numpy as np\n",
    "from imitation.policies.base import FeedForward32Policy"
   ]
  },
  {
   "cell_type": "code",
   "execution_count": 10,
   "id": "fef7e36a-1239-414e-8f46-a7ff84db82dd",
   "metadata": {
    "tags": []
   },
   "outputs": [],
   "source": [
    "# setup observation space action space and lr schedule\n",
    "from air_hockey_challenge.framework.air_hockey_challenge_wrapper import AirHockeyChallengeWrapper\n",
    "import gym\n",
    "\n",
    "mdp = AirHockeyChallengeWrapper(env=\"3dof-hit\")\n",
    "obs_space = mdp.info.observation_space\n",
    "bc_obs_space = gym.spaces.Box(low=obs_space.low, high=obs_space.high, shape=obs_space.shape)\n",
    "\n",
    "\n",
    "#this deceives u.... action_space from mdp only shows the torque limits\n",
    "action_space = mdp.info.action_space\n",
    "\n",
    "jnt_range = mdp.base_env.env_info['robot']['robot_model'].jnt_range\n",
    "vel_range = mdp.base_env.env_info['robot']['joint_vel_limit'].T * 0.95\n",
    "\n",
    "low = np.hstack((jnt_range[:,0][:,np.newaxis], vel_range[:,0][:,np.newaxis])).T\n",
    "high = np.hstack((jnt_range[:,1][:,np.newaxis], vel_range[:,1][:,np.newaxis])).T\n",
    "\n",
    "bc_action_space = gym.spaces.Box(low=low, high=high, shape=(2,3))"
   ]
  },
  {
   "cell_type": "code",
   "execution_count": 12,
   "id": "fa1118b1-2c92-446a-8947-b03bab674008",
   "metadata": {
    "tags": []
   },
   "outputs": [],
   "source": [
    "PATH = 'intro_il_model.pt'\n",
    "model = FeedForward32Policy(action_space = bc_action_space, observation_space = bc_obs_space, lr_schedule= lambda _: torch.finfo(torch.float32).max)"
   ]
  },
  {
   "cell_type": "code",
   "execution_count": 13,
   "id": "e5cc8b1b-d423-4ecc-9c6b-f0f375ce490b",
   "metadata": {
    "tags": []
   },
   "outputs": [
    {
     "data": {
      "text/plain": [
       "<All keys matched successfully>"
      ]
     },
     "execution_count": 13,
     "metadata": {},
     "output_type": "execute_result"
    }
   ],
   "source": [
    "model.load_state_dict(torch.load(PATH))"
   ]
  },
  {
   "cell_type": "markdown",
   "id": "1437cee7-5b1d-4860-9c48-60f361a18b79",
   "metadata": {},
   "source": [
    "### Load network into an agent for testing\n",
    "Notes:\n",
    "- FeedForward32Policy is an ActorCritic.\n",
    "- this means we only use the action network instead of the critic/value network.\n",
    "- action gets us what we need\n",
    "- https://stable-baselines.readthedocs.io/en/master/_modules/stable_baselines/common/policies.html#ActorCriticPolicy\n",
    "- link above breaks down the model structure."
   ]
  },
  {
   "cell_type": "code",
   "execution_count": 34,
   "id": "b7e35ca9-afb2-45f6-88f5-9a8a19d2a79b",
   "metadata": {
    "tags": []
   },
   "outputs": [
    {
     "data": {
      "text/plain": [
       "FeedForward32Policy(\n",
       "  (features_extractor): FlattenExtractor(\n",
       "    (flatten): Flatten(start_dim=1, end_dim=-1)\n",
       "  )\n",
       "  (pi_features_extractor): FlattenExtractor(\n",
       "    (flatten): Flatten(start_dim=1, end_dim=-1)\n",
       "  )\n",
       "  (vf_features_extractor): FlattenExtractor(\n",
       "    (flatten): Flatten(start_dim=1, end_dim=-1)\n",
       "  )\n",
       "  (mlp_extractor): MlpExtractor(\n",
       "    (policy_net): Sequential(\n",
       "      (0): Linear(in_features=12, out_features=32, bias=True)\n",
       "      (1): Tanh()\n",
       "      (2): Linear(in_features=32, out_features=32, bias=True)\n",
       "      (3): Tanh()\n",
       "    )\n",
       "    (value_net): Sequential(\n",
       "      (0): Linear(in_features=12, out_features=32, bias=True)\n",
       "      (1): Tanh()\n",
       "      (2): Linear(in_features=32, out_features=32, bias=True)\n",
       "      (3): Tanh()\n",
       "    )\n",
       "  )\n",
       "  (action_net): Linear(in_features=32, out_features=6, bias=True)\n",
       "  (value_net): Linear(in_features=32, out_features=1, bias=True)\n",
       ")"
      ]
     },
     "execution_count": 34,
     "metadata": {},
     "output_type": "execute_result"
    }
   ],
   "source": [
    "model"
   ]
  },
  {
   "cell_type": "code",
   "execution_count": 42,
   "id": "79e64f29-ec2b-4e9f-8b4e-96cad2899ae4",
   "metadata": {
    "tags": []
   },
   "outputs": [],
   "source": [
    "action, _ ,_ = model.forward(torch.zeros(1,12))"
   ]
  },
  {
   "cell_type": "code",
   "execution_count": 44,
   "id": "62239ec7-f14a-4c03-bbf9-00fc3e8dc75b",
   "metadata": {
    "tags": []
   },
   "outputs": [
    {
     "data": {
      "text/plain": [
       "tensor([[[ 0.4628, -0.4467, -0.6038],\n",
       "         [-0.9175,  0.6231,  0.8011]]], grad_fn=<ReshapeAliasBackward0>)"
      ]
     },
     "execution_count": 44,
     "metadata": {},
     "output_type": "execute_result"
    }
   ],
   "source": [
    "action"
   ]
  },
  {
   "cell_type": "code",
   "execution_count": 95,
   "id": "c29fb14d-fb34-4b59-ac74-5b704db76c86",
   "metadata": {
    "tags": []
   },
   "outputs": [],
   "source": [
    "from air_hockey_challenge.framework import AgentBase\n",
    "from air_hockey_challenge.framework.challenge_core import ChallengeCore, CustomChallengeCore"
   ]
  },
  {
   "cell_type": "code",
   "execution_count": 108,
   "id": "3605852a-8899-44d0-9fc4-95f186ab8328",
   "metadata": {
    "tags": []
   },
   "outputs": [],
   "source": [
    "class BehaviorCloneAgent(AgentBase):\n",
    "    def __init__(self, env_info, model, device, **kwargs):\n",
    "        super().__init__(env_info, **kwargs)\n",
    "        self.new_start = True\n",
    "        self.hold_position = None\n",
    "        \n",
    "        self.model = model\n",
    "        self.device = device\n",
    "\n",
    "    def reset(self):\n",
    "        self.new_start = True\n",
    "        self.hold_position = None\n",
    "\n",
    "    def draw_action(self, observation):\n",
    "        if self.new_start:\n",
    "            self.new_start = False\n",
    "            self.hold_position = self.get_joint_pos(observation)\n",
    "\n",
    "            velocity = np.zeros_like(self.hold_position)\n",
    "            action = np.vstack([self.hold_position, velocity])\n",
    "        else:\n",
    "            obs_tensor = torch.tensor(observation,dtype=torch.float).reshape(1,12).detach()\n",
    "            action,_,_ = self.model(obs_tensor)\n",
    "            action = action.reshape(2,3).detach().numpy()\n",
    "            \n",
    "        \n",
    "        return action"
   ]
  },
  {
   "cell_type": "code",
   "execution_count": 109,
   "id": "3a97d770-9f0b-4024-804e-419c1dc57248",
   "metadata": {
    "tags": []
   },
   "outputs": [],
   "source": [
    "def build_agent(env_info, **kwargs):\n",
    "    \"\"\"\n",
    "    Function where an Agent that controls the environments should be returned.\n",
    "    The Agent should inherit from the mushroom_rl Agent base env.\n",
    "\n",
    "    Args:\n",
    "        env_info (dict): The environment information\n",
    "        kwargs (any): Additionally setting from agent_config.yml\n",
    "    Returns:\n",
    "         (AgentBase) An instance of the Agent\n",
    "    \"\"\"\n",
    "\n",
    "    return BehaviorCloneAgent(env_info, **kwargs)"
   ]
  },
  {
   "cell_type": "code",
   "execution_count": 110,
   "id": "7fb24992-0060-449d-98bd-e3720c76a927",
   "metadata": {
    "tags": []
   },
   "outputs": [],
   "source": [
    "mdp = AirHockeyChallengeWrapper(env=\"3dof-hit\", action_type=\"position-velocity\", interpolation_order=3, debug=True)\n",
    "agent = BehaviorCloneAgent(mdp.base_env.env_info, model, 'cpu')"
   ]
  },
  {
   "cell_type": "code",
   "execution_count": 111,
   "id": "ab6fa948-2717-4a70-8fb9-a9a94a0ddaf6",
   "metadata": {
    "tags": []
   },
   "outputs": [],
   "source": [
    "from air_hockey_challenge.framework.evaluate_agent import evaluate"
   ]
  },
  {
   "cell_type": "code",
   "execution_count": 112,
   "id": "0f157c29-c1cd-4ca5-8a57-0d490faa98b8",
   "metadata": {
    "tags": []
   },
   "outputs": [
    {
     "ename": "KeyboardInterrupt",
     "evalue": "",
     "output_type": "error",
     "traceback": [
      "\u001b[0;31m---------------------------------------------------------------------------\u001b[0m",
      "\u001b[0;31mKeyboardInterrupt\u001b[0m                         Traceback (most recent call last)",
      "Cell \u001b[0;32mIn[112], line 1\u001b[0m\n\u001b[0;32m----> 1\u001b[0m \u001b[43mevaluate\u001b[49m\u001b[43m(\u001b[49m\u001b[43mbuild_agent\u001b[49m\u001b[43m,\u001b[49m\u001b[43m \u001b[49m\u001b[38;5;124;43m'\u001b[39;49m\u001b[38;5;124;43msome_folder/\u001b[39;49m\u001b[38;5;124;43m'\u001b[39;49m\u001b[43m,\u001b[49m\u001b[43m \u001b[49m\u001b[43m[\u001b[49m\u001b[38;5;124;43m'\u001b[39;49m\u001b[38;5;124;43m3dof-hit\u001b[39;49m\u001b[38;5;124;43m'\u001b[39;49m\u001b[43m]\u001b[49m\u001b[43m,\u001b[49m\u001b[43m \u001b[49m\u001b[38;5;241;43m5\u001b[39;49m\u001b[43m,\u001b[49m\u001b[43m \u001b[49m\u001b[38;5;241;43m1\u001b[39;49m\u001b[43m,\u001b[49m\u001b[43m \u001b[49m\u001b[43mmodel\u001b[49m\u001b[38;5;241;43m=\u001b[39;49m\u001b[43mmodel\u001b[49m\u001b[43m,\u001b[49m\u001b[43m \u001b[49m\u001b[43mdevice\u001b[49m\u001b[38;5;241;43m=\u001b[39;49m\u001b[38;5;124;43m'\u001b[39;49m\u001b[38;5;124;43mcpu\u001b[39;49m\u001b[38;5;124;43m'\u001b[39;49m\u001b[43m)\u001b[49m\n",
      "File \u001b[0;32m~/workspace/classes/spring2023/eecs298/air_hockey_challenge/air_hockey_challenge/framework/evaluate_agent.py:245\u001b[0m, in \u001b[0;36mevaluate\u001b[0;34m(agent_builder, log_dir, env_list, n_episodes, n_cores, seed, generate_score, quiet, render, **kwargs)\u001b[0m\n\u001b[1;32m    241\u001b[0m summary \u001b[38;5;241m=\u001b[39m \u001b[38;5;124m\"\u001b[39m\u001b[38;5;124m=================================================\u001b[39m\u001b[38;5;130;01m\\n\u001b[39;00m\u001b[38;5;124m\"\u001b[39m\n\u001b[1;32m    242\u001b[0m \u001b[38;5;28;01mfor\u001b[39;00m env, chunks \u001b[38;5;129;01min\u001b[39;00m \u001b[38;5;28mzip\u001b[39m(env_list, env_init_chuncks):\n\u001b[1;32m    243\u001b[0m \n\u001b[1;32m    244\u001b[0m     \u001b[38;5;66;03m# returns: dataset, success, penalty_sum, constraints_dict, jerk, computation_time, violations, metric_dict\u001b[39;00m\n\u001b[0;32m--> 245\u001b[0m     data \u001b[38;5;241m=\u001b[39m \u001b[43mParallel\u001b[49m\u001b[43m(\u001b[49m\u001b[43mn_jobs\u001b[49m\u001b[38;5;241;43m=\u001b[39;49m\u001b[43mn_cores\u001b[49m\u001b[43m)\u001b[49m\u001b[43m(\u001b[49m\u001b[43mdelayed\u001b[49m\u001b[43m(\u001b[49m\u001b[43m_evaluate\u001b[49m\u001b[43m)\u001b[49m\u001b[43m(\u001b[49m\u001b[43mpath\u001b[49m\u001b[43m,\u001b[49m\u001b[43m \u001b[49m\u001b[43menv\u001b[49m\u001b[43m,\u001b[49m\u001b[43m \u001b[49m\u001b[43magent_builder\u001b[49m\u001b[43m,\u001b[49m\u001b[43m \u001b[49m\u001b[43mchunks\u001b[49m\u001b[43m[\u001b[49m\u001b[43mi\u001b[49m\u001b[43m]\u001b[49m\u001b[43m,\u001b[49m\u001b[43m \u001b[49m\u001b[43mquiet\u001b[49m\u001b[43m,\u001b[49m\u001b[43m \u001b[49m\u001b[43mrender\u001b[49m\u001b[43m,\u001b[49m\n\u001b[1;32m    246\u001b[0m \u001b[43m                                                       \u001b[49m\u001b[38;5;28;43msum\u001b[39;49m\u001b[43m(\u001b[49m\u001b[43m[\u001b[49m\u001b[38;5;28;43mlen\u001b[39;49m\u001b[43m(\u001b[49m\u001b[43mx\u001b[49m\u001b[43m)\u001b[49m\u001b[43m \u001b[49m\u001b[38;5;28;43;01mfor\u001b[39;49;00m\u001b[43m \u001b[49m\u001b[43mx\u001b[49m\u001b[43m \u001b[49m\u001b[38;5;129;43;01min\u001b[39;49;00m\u001b[43m \u001b[49m\u001b[43mchunks\u001b[49m\u001b[43m[\u001b[49m\u001b[43m:\u001b[49m\u001b[43mi\u001b[49m\u001b[43m]\u001b[49m\u001b[43m]\u001b[49m\u001b[43m)\u001b[49m\u001b[43m,\u001b[49m\u001b[43m \u001b[49m\u001b[43mcompute_seed\u001b[49m\u001b[43m(\u001b[49m\u001b[43mseed\u001b[49m\u001b[43m,\u001b[49m\u001b[43m \u001b[49m\u001b[43mi\u001b[49m\u001b[43m)\u001b[49m\u001b[43m,\u001b[49m\u001b[43m \u001b[49m\u001b[43mi\u001b[49m\u001b[43m,\u001b[49m\n\u001b[1;32m    247\u001b[0m \u001b[43m                                                       \u001b[49m\u001b[38;5;241;43m*\u001b[39;49m\u001b[38;5;241;43m*\u001b[39;49m\u001b[43mkwargs\u001b[49m\u001b[43m)\u001b[49m\u001b[43m \u001b[49m\u001b[38;5;28;43;01mfor\u001b[39;49;00m\u001b[43m \u001b[49m\u001b[43mi\u001b[49m\u001b[43m \u001b[49m\u001b[38;5;129;43;01min\u001b[39;49;00m\u001b[43m \u001b[49m\u001b[38;5;28;43mrange\u001b[39;49m\u001b[43m(\u001b[49m\u001b[43mn_cores\u001b[49m\u001b[43m)\u001b[49m\u001b[43m)\u001b[49m\n\u001b[1;32m    249\u001b[0m     logger \u001b[38;5;241m=\u001b[39m Logger(log_name\u001b[38;5;241m=\u001b[39menv, results_dir\u001b[38;5;241m=\u001b[39mpath)\n\u001b[1;32m    251\u001b[0m     success \u001b[38;5;241m=\u001b[39m np\u001b[38;5;241m.\u001b[39mmean([d[\u001b[38;5;241m0\u001b[39m] \u001b[38;5;28;01mfor\u001b[39;00m d \u001b[38;5;129;01min\u001b[39;00m data])\n",
      "File \u001b[0;32m~/.local/lib/python3.10/site-packages/joblib/parallel.py:1085\u001b[0m, in \u001b[0;36mParallel.__call__\u001b[0;34m(self, iterable)\u001b[0m\n\u001b[1;32m   1076\u001b[0m \u001b[38;5;28;01mtry\u001b[39;00m:\n\u001b[1;32m   1077\u001b[0m     \u001b[38;5;66;03m# Only set self._iterating to True if at least a batch\u001b[39;00m\n\u001b[1;32m   1078\u001b[0m     \u001b[38;5;66;03m# was dispatched. In particular this covers the edge\u001b[39;00m\n\u001b[0;32m   (...)\u001b[0m\n\u001b[1;32m   1082\u001b[0m     \u001b[38;5;66;03m# was very quick and its callback already dispatched all the\u001b[39;00m\n\u001b[1;32m   1083\u001b[0m     \u001b[38;5;66;03m# remaining jobs.\u001b[39;00m\n\u001b[1;32m   1084\u001b[0m     \u001b[38;5;28mself\u001b[39m\u001b[38;5;241m.\u001b[39m_iterating \u001b[38;5;241m=\u001b[39m \u001b[38;5;28;01mFalse\u001b[39;00m\n\u001b[0;32m-> 1085\u001b[0m     \u001b[38;5;28;01mif\u001b[39;00m \u001b[38;5;28;43mself\u001b[39;49m\u001b[38;5;241;43m.\u001b[39;49m\u001b[43mdispatch_one_batch\u001b[49m\u001b[43m(\u001b[49m\u001b[43miterator\u001b[49m\u001b[43m)\u001b[49m:\n\u001b[1;32m   1086\u001b[0m         \u001b[38;5;28mself\u001b[39m\u001b[38;5;241m.\u001b[39m_iterating \u001b[38;5;241m=\u001b[39m \u001b[38;5;28mself\u001b[39m\u001b[38;5;241m.\u001b[39m_original_iterator \u001b[38;5;129;01mis\u001b[39;00m \u001b[38;5;129;01mnot\u001b[39;00m \u001b[38;5;28;01mNone\u001b[39;00m\n\u001b[1;32m   1088\u001b[0m     \u001b[38;5;28;01mwhile\u001b[39;00m \u001b[38;5;28mself\u001b[39m\u001b[38;5;241m.\u001b[39mdispatch_one_batch(iterator):\n",
      "File \u001b[0;32m~/.local/lib/python3.10/site-packages/joblib/parallel.py:901\u001b[0m, in \u001b[0;36mParallel.dispatch_one_batch\u001b[0;34m(self, iterator)\u001b[0m\n\u001b[1;32m    899\u001b[0m     \u001b[38;5;28;01mreturn\u001b[39;00m \u001b[38;5;28;01mFalse\u001b[39;00m\n\u001b[1;32m    900\u001b[0m \u001b[38;5;28;01melse\u001b[39;00m:\n\u001b[0;32m--> 901\u001b[0m     \u001b[38;5;28;43mself\u001b[39;49m\u001b[38;5;241;43m.\u001b[39;49m\u001b[43m_dispatch\u001b[49m\u001b[43m(\u001b[49m\u001b[43mtasks\u001b[49m\u001b[43m)\u001b[49m\n\u001b[1;32m    902\u001b[0m     \u001b[38;5;28;01mreturn\u001b[39;00m \u001b[38;5;28;01mTrue\u001b[39;00m\n",
      "File \u001b[0;32m~/.local/lib/python3.10/site-packages/joblib/parallel.py:819\u001b[0m, in \u001b[0;36mParallel._dispatch\u001b[0;34m(self, batch)\u001b[0m\n\u001b[1;32m    817\u001b[0m \u001b[38;5;28;01mwith\u001b[39;00m \u001b[38;5;28mself\u001b[39m\u001b[38;5;241m.\u001b[39m_lock:\n\u001b[1;32m    818\u001b[0m     job_idx \u001b[38;5;241m=\u001b[39m \u001b[38;5;28mlen\u001b[39m(\u001b[38;5;28mself\u001b[39m\u001b[38;5;241m.\u001b[39m_jobs)\n\u001b[0;32m--> 819\u001b[0m     job \u001b[38;5;241m=\u001b[39m \u001b[38;5;28;43mself\u001b[39;49m\u001b[38;5;241;43m.\u001b[39;49m\u001b[43m_backend\u001b[49m\u001b[38;5;241;43m.\u001b[39;49m\u001b[43mapply_async\u001b[49m\u001b[43m(\u001b[49m\u001b[43mbatch\u001b[49m\u001b[43m,\u001b[49m\u001b[43m \u001b[49m\u001b[43mcallback\u001b[49m\u001b[38;5;241;43m=\u001b[39;49m\u001b[43mcb\u001b[49m\u001b[43m)\u001b[49m\n\u001b[1;32m    820\u001b[0m     \u001b[38;5;66;03m# A job can complete so quickly than its callback is\u001b[39;00m\n\u001b[1;32m    821\u001b[0m     \u001b[38;5;66;03m# called before we get here, causing self._jobs to\u001b[39;00m\n\u001b[1;32m    822\u001b[0m     \u001b[38;5;66;03m# grow. To ensure correct results ordering, .insert is\u001b[39;00m\n\u001b[1;32m    823\u001b[0m     \u001b[38;5;66;03m# used (rather than .append) in the following line\u001b[39;00m\n\u001b[1;32m    824\u001b[0m     \u001b[38;5;28mself\u001b[39m\u001b[38;5;241m.\u001b[39m_jobs\u001b[38;5;241m.\u001b[39minsert(job_idx, job)\n",
      "File \u001b[0;32m~/.local/lib/python3.10/site-packages/joblib/_parallel_backends.py:208\u001b[0m, in \u001b[0;36mSequentialBackend.apply_async\u001b[0;34m(self, func, callback)\u001b[0m\n\u001b[1;32m    206\u001b[0m \u001b[38;5;28;01mdef\u001b[39;00m \u001b[38;5;21mapply_async\u001b[39m(\u001b[38;5;28mself\u001b[39m, func, callback\u001b[38;5;241m=\u001b[39m\u001b[38;5;28;01mNone\u001b[39;00m):\n\u001b[1;32m    207\u001b[0m     \u001b[38;5;124;03m\"\"\"Schedule a func to be run\"\"\"\u001b[39;00m\n\u001b[0;32m--> 208\u001b[0m     result \u001b[38;5;241m=\u001b[39m \u001b[43mImmediateResult\u001b[49m\u001b[43m(\u001b[49m\u001b[43mfunc\u001b[49m\u001b[43m)\u001b[49m\n\u001b[1;32m    209\u001b[0m     \u001b[38;5;28;01mif\u001b[39;00m callback:\n\u001b[1;32m    210\u001b[0m         callback(result)\n",
      "File \u001b[0;32m~/.local/lib/python3.10/site-packages/joblib/_parallel_backends.py:597\u001b[0m, in \u001b[0;36mImmediateResult.__init__\u001b[0;34m(self, batch)\u001b[0m\n\u001b[1;32m    594\u001b[0m \u001b[38;5;28;01mdef\u001b[39;00m \u001b[38;5;21m__init__\u001b[39m(\u001b[38;5;28mself\u001b[39m, batch):\n\u001b[1;32m    595\u001b[0m     \u001b[38;5;66;03m# Don't delay the application, to avoid keeping the input\u001b[39;00m\n\u001b[1;32m    596\u001b[0m     \u001b[38;5;66;03m# arguments in memory\u001b[39;00m\n\u001b[0;32m--> 597\u001b[0m     \u001b[38;5;28mself\u001b[39m\u001b[38;5;241m.\u001b[39mresults \u001b[38;5;241m=\u001b[39m \u001b[43mbatch\u001b[49m\u001b[43m(\u001b[49m\u001b[43m)\u001b[49m\n",
      "File \u001b[0;32m~/.local/lib/python3.10/site-packages/joblib/parallel.py:288\u001b[0m, in \u001b[0;36mBatchedCalls.__call__\u001b[0;34m(self)\u001b[0m\n\u001b[1;32m    284\u001b[0m \u001b[38;5;28;01mdef\u001b[39;00m \u001b[38;5;21m__call__\u001b[39m(\u001b[38;5;28mself\u001b[39m):\n\u001b[1;32m    285\u001b[0m     \u001b[38;5;66;03m# Set the default nested backend to self._backend but do not set the\u001b[39;00m\n\u001b[1;32m    286\u001b[0m     \u001b[38;5;66;03m# change the default number of processes to -1\u001b[39;00m\n\u001b[1;32m    287\u001b[0m     \u001b[38;5;28;01mwith\u001b[39;00m parallel_backend(\u001b[38;5;28mself\u001b[39m\u001b[38;5;241m.\u001b[39m_backend, n_jobs\u001b[38;5;241m=\u001b[39m\u001b[38;5;28mself\u001b[39m\u001b[38;5;241m.\u001b[39m_n_jobs):\n\u001b[0;32m--> 288\u001b[0m         \u001b[38;5;28;01mreturn\u001b[39;00m [func(\u001b[38;5;241m*\u001b[39margs, \u001b[38;5;241m*\u001b[39m\u001b[38;5;241m*\u001b[39mkwargs)\n\u001b[1;32m    289\u001b[0m                 \u001b[38;5;28;01mfor\u001b[39;00m func, args, kwargs \u001b[38;5;129;01min\u001b[39;00m \u001b[38;5;28mself\u001b[39m\u001b[38;5;241m.\u001b[39mitems]\n",
      "File \u001b[0;32m~/.local/lib/python3.10/site-packages/joblib/parallel.py:288\u001b[0m, in \u001b[0;36m<listcomp>\u001b[0;34m(.0)\u001b[0m\n\u001b[1;32m    284\u001b[0m \u001b[38;5;28;01mdef\u001b[39;00m \u001b[38;5;21m__call__\u001b[39m(\u001b[38;5;28mself\u001b[39m):\n\u001b[1;32m    285\u001b[0m     \u001b[38;5;66;03m# Set the default nested backend to self._backend but do not set the\u001b[39;00m\n\u001b[1;32m    286\u001b[0m     \u001b[38;5;66;03m# change the default number of processes to -1\u001b[39;00m\n\u001b[1;32m    287\u001b[0m     \u001b[38;5;28;01mwith\u001b[39;00m parallel_backend(\u001b[38;5;28mself\u001b[39m\u001b[38;5;241m.\u001b[39m_backend, n_jobs\u001b[38;5;241m=\u001b[39m\u001b[38;5;28mself\u001b[39m\u001b[38;5;241m.\u001b[39m_n_jobs):\n\u001b[0;32m--> 288\u001b[0m         \u001b[38;5;28;01mreturn\u001b[39;00m [\u001b[43mfunc\u001b[49m\u001b[43m(\u001b[49m\u001b[38;5;241;43m*\u001b[39;49m\u001b[43margs\u001b[49m\u001b[43m,\u001b[49m\u001b[43m \u001b[49m\u001b[38;5;241;43m*\u001b[39;49m\u001b[38;5;241;43m*\u001b[39;49m\u001b[43mkwargs\u001b[49m\u001b[43m)\u001b[49m\n\u001b[1;32m    289\u001b[0m                 \u001b[38;5;28;01mfor\u001b[39;00m func, args, kwargs \u001b[38;5;129;01min\u001b[39;00m \u001b[38;5;28mself\u001b[39m\u001b[38;5;241m.\u001b[39mitems]\n",
      "File \u001b[0;32m~/workspace/classes/spring2023/eecs298/air_hockey_challenge/air_hockey_challenge/framework/evaluate_agent.py:380\u001b[0m, in \u001b[0;36m_evaluate\u001b[0;34m(log_dir, env, agent_builder, init_states, quiet, render, episode_offset, seed, i, **kwargs)\u001b[0m\n\u001b[1;32m    377\u001b[0m agent \u001b[38;5;241m=\u001b[39m agent_builder(mdp\u001b[38;5;241m.\u001b[39menv_info, \u001b[38;5;241m*\u001b[39m\u001b[38;5;241m*\u001b[39mkwargs)\n\u001b[1;32m    378\u001b[0m core \u001b[38;5;241m=\u001b[39m ChallengeCore(agent, mdp)\n\u001b[0;32m--> 380\u001b[0m dataset, success, penalty_sum, constraints_dict, jerk, computation_time, violations \u001b[38;5;241m=\u001b[39m \u001b[43mcompute_metrics\u001b[49m\u001b[43m(\u001b[49m\u001b[43mcore\u001b[49m\u001b[43m,\u001b[49m\u001b[43m \u001b[49m\u001b[43meval_params\u001b[49m\u001b[43m,\u001b[49m\u001b[43m \u001b[49m\u001b[43mepisode_offset\u001b[49m\u001b[43m)\u001b[49m\n\u001b[1;32m    382\u001b[0m logger \u001b[38;5;241m=\u001b[39m Logger(log_name\u001b[38;5;241m=\u001b[39menv, results_dir\u001b[38;5;241m=\u001b[39mlog_dir, seed\u001b[38;5;241m=\u001b[39mi)\n\u001b[1;32m    384\u001b[0m logger\u001b[38;5;241m.\u001b[39mlog_dataset(dataset)\n",
      "File \u001b[0;32m~/workspace/classes/spring2023/eecs298/air_hockey_challenge/air_hockey_challenge/framework/evaluate_agent.py:393\u001b[0m, in \u001b[0;36mcompute_metrics\u001b[0;34m(core, eval_params, episode_offset)\u001b[0m\n\u001b[1;32m    392\u001b[0m \u001b[38;5;28;01mdef\u001b[39;00m \u001b[38;5;21mcompute_metrics\u001b[39m(core, eval_params, episode_offset):\n\u001b[0;32m--> 393\u001b[0m     dataset, dataset_info \u001b[38;5;241m=\u001b[39m \u001b[43mcore\u001b[49m\u001b[38;5;241;43m.\u001b[39;49m\u001b[43mevaluate\u001b[49m\u001b[43m(\u001b[49m\u001b[38;5;241;43m*\u001b[39;49m\u001b[38;5;241;43m*\u001b[39;49m\u001b[43meval_params\u001b[49m\u001b[43m,\u001b[49m\u001b[43m \u001b[49m\u001b[43mget_env_info\u001b[49m\u001b[38;5;241;43m=\u001b[39;49m\u001b[38;5;28;43;01mTrue\u001b[39;49;00m\u001b[43m)\u001b[49m\n\u001b[1;32m    394\u001b[0m     \u001b[38;5;66;03m# print(f\"DATASET LEN: {len(dataset)}\")\u001b[39;00m\n\u001b[1;32m    396\u001b[0m     episode_length \u001b[38;5;241m=\u001b[39m compute_episodes_length(dataset)\n",
      "File \u001b[0;32m~/.local/lib/python3.10/site-packages/mushroom_rl/core/core.py:99\u001b[0m, in \u001b[0;36mCore.evaluate\u001b[0;34m(self, initial_states, n_steps, n_episodes, render, quiet, get_env_info)\u001b[0m\n\u001b[1;32m     76\u001b[0m \u001b[38;5;124;03m\"\"\"\u001b[39;00m\n\u001b[1;32m     77\u001b[0m \u001b[38;5;124;03mThis function moves the agent in the environment using its policy.\u001b[39;00m\n\u001b[1;32m     78\u001b[0m \u001b[38;5;124;03mThe agent is moved for a provided number of steps, episodes, or from\u001b[39;00m\n\u001b[0;32m   (...)\u001b[0m\n\u001b[1;32m     95\u001b[0m \n\u001b[1;32m     96\u001b[0m \u001b[38;5;124;03m\"\"\"\u001b[39;00m\n\u001b[1;32m     97\u001b[0m fit_condition \u001b[38;5;241m=\u001b[39m \u001b[38;5;28;01mlambda\u001b[39;00m: \u001b[38;5;28;01mFalse\u001b[39;00m\n\u001b[0;32m---> 99\u001b[0m \u001b[38;5;28;01mreturn\u001b[39;00m \u001b[38;5;28;43mself\u001b[39;49m\u001b[38;5;241;43m.\u001b[39;49m\u001b[43m_run\u001b[49m\u001b[43m(\u001b[49m\u001b[43mn_steps\u001b[49m\u001b[43m,\u001b[49m\u001b[43m \u001b[49m\u001b[43mn_episodes\u001b[49m\u001b[43m,\u001b[49m\u001b[43m \u001b[49m\u001b[43mfit_condition\u001b[49m\u001b[43m,\u001b[49m\u001b[43m \u001b[49m\u001b[43mrender\u001b[49m\u001b[43m,\u001b[49m\u001b[43m \u001b[49m\u001b[43mquiet\u001b[49m\u001b[43m,\u001b[49m\u001b[43m \u001b[49m\u001b[43mget_env_info\u001b[49m\u001b[43m,\u001b[49m\n\u001b[1;32m    100\u001b[0m \u001b[43m                 \u001b[49m\u001b[43minitial_states\u001b[49m\u001b[43m)\u001b[49m\n",
      "File \u001b[0;32m~/.local/lib/python3.10/site-packages/mushroom_rl/core/core.py:128\u001b[0m, in \u001b[0;36mCore._run\u001b[0;34m(self, n_steps, n_episodes, fit_condition, render, quiet, get_env_info, initial_states)\u001b[0m\n\u001b[1;32m    123\u001b[0m     steps_progress_bar \u001b[38;5;241m=\u001b[39m tqdm(disable\u001b[38;5;241m=\u001b[39m\u001b[38;5;28;01mTrue\u001b[39;00m)\n\u001b[1;32m    124\u001b[0m     episodes_progress_bar \u001b[38;5;241m=\u001b[39m tqdm(total\u001b[38;5;241m=\u001b[39m\u001b[38;5;28mself\u001b[39m\u001b[38;5;241m.\u001b[39m_n_episodes,\n\u001b[1;32m    125\u001b[0m                                  dynamic_ncols\u001b[38;5;241m=\u001b[39m\u001b[38;5;28;01mTrue\u001b[39;00m, disable\u001b[38;5;241m=\u001b[39mquiet,\n\u001b[1;32m    126\u001b[0m                                  leave\u001b[38;5;241m=\u001b[39m\u001b[38;5;28;01mFalse\u001b[39;00m)\n\u001b[0;32m--> 128\u001b[0m dataset, dataset_info \u001b[38;5;241m=\u001b[39m \u001b[38;5;28;43mself\u001b[39;49m\u001b[38;5;241;43m.\u001b[39;49m\u001b[43m_run_impl\u001b[49m\u001b[43m(\u001b[49m\u001b[43mmove_condition\u001b[49m\u001b[43m,\u001b[49m\u001b[43m \u001b[49m\u001b[43mfit_condition\u001b[49m\u001b[43m,\u001b[49m\u001b[43m \u001b[49m\u001b[43msteps_progress_bar\u001b[49m\u001b[43m,\u001b[49m\n\u001b[1;32m    129\u001b[0m \u001b[43m                                        \u001b[49m\u001b[43mepisodes_progress_bar\u001b[49m\u001b[43m,\u001b[49m\u001b[43m \u001b[49m\u001b[43mrender\u001b[49m\u001b[43m,\u001b[49m\u001b[43m \u001b[49m\u001b[43minitial_states\u001b[49m\u001b[43m)\u001b[49m\n\u001b[1;32m    131\u001b[0m \u001b[38;5;28;01mif\u001b[39;00m get_env_info:\n\u001b[1;32m    132\u001b[0m     \u001b[38;5;28;01mreturn\u001b[39;00m dataset, dataset_info\n",
      "File \u001b[0;32m~/.local/lib/python3.10/site-packages/mushroom_rl/core/core.py:151\u001b[0m, in \u001b[0;36mCore._run_impl\u001b[0;34m(self, move_condition, fit_condition, steps_progress_bar, episodes_progress_bar, render, initial_states)\u001b[0m\n\u001b[1;32m    148\u001b[0m \u001b[38;5;28;01mif\u001b[39;00m last:\n\u001b[1;32m    149\u001b[0m     \u001b[38;5;28mself\u001b[39m\u001b[38;5;241m.\u001b[39mreset(initial_states)\n\u001b[0;32m--> 151\u001b[0m sample, step_info \u001b[38;5;241m=\u001b[39m \u001b[38;5;28;43mself\u001b[39;49m\u001b[38;5;241;43m.\u001b[39;49m\u001b[43m_step\u001b[49m\u001b[43m(\u001b[49m\u001b[43mrender\u001b[49m\u001b[43m)\u001b[49m\n\u001b[1;32m    153\u001b[0m \u001b[38;5;28mself\u001b[39m\u001b[38;5;241m.\u001b[39mcallback_step([sample])\n\u001b[1;32m    155\u001b[0m \u001b[38;5;28mself\u001b[39m\u001b[38;5;241m.\u001b[39m_total_steps_counter \u001b[38;5;241m+\u001b[39m\u001b[38;5;241m=\u001b[39m \u001b[38;5;241m1\u001b[39m\n",
      "File \u001b[0;32m~/workspace/classes/spring2023/eecs298/air_hockey_challenge/air_hockey_challenge/framework/challenge_core.py:30\u001b[0m, in \u001b[0;36mChallengeCore._step\u001b[0;34m(self, render)\u001b[0m\n\u001b[1;32m     28\u001b[0m action \u001b[38;5;241m=\u001b[39m \u001b[38;5;28mself\u001b[39m\u001b[38;5;241m.\u001b[39magent\u001b[38;5;241m.\u001b[39mdraw_action(\u001b[38;5;28mself\u001b[39m\u001b[38;5;241m.\u001b[39m_state)\n\u001b[1;32m     29\u001b[0m end_time \u001b[38;5;241m=\u001b[39m time\u001b[38;5;241m.\u001b[39mtime()\n\u001b[0;32m---> 30\u001b[0m next_state, reward, absorbing, step_info \u001b[38;5;241m=\u001b[39m \u001b[38;5;28;43mself\u001b[39;49m\u001b[38;5;241;43m.\u001b[39;49m\u001b[43mmdp\u001b[49m\u001b[38;5;241;43m.\u001b[39;49m\u001b[43mstep\u001b[49m\u001b[43m(\u001b[49m\u001b[43maction\u001b[49m\u001b[43m[\u001b[49m\u001b[38;5;28;43mself\u001b[39;49m\u001b[38;5;241;43m.\u001b[39;49m\u001b[43maction_idx\u001b[49m\u001b[43m]\u001b[49m\u001b[43m)\u001b[49m\n\u001b[1;32m     31\u001b[0m step_info[\u001b[38;5;124m\"\u001b[39m\u001b[38;5;124mcomputation_time\u001b[39m\u001b[38;5;124m\"\u001b[39m] \u001b[38;5;241m=\u001b[39m (end_time \u001b[38;5;241m-\u001b[39m start_time)\n\u001b[1;32m     33\u001b[0m \u001b[38;5;28mself\u001b[39m\u001b[38;5;241m.\u001b[39m_episode_steps \u001b[38;5;241m+\u001b[39m\u001b[38;5;241m=\u001b[39m \u001b[38;5;241m1\u001b[39m\n",
      "File \u001b[0;32m~/workspace/classes/spring2023/eecs298/air_hockey_challenge/air_hockey_challenge/framework/air_hockey_challenge_wrapper.py:55\u001b[0m, in \u001b[0;36mAirHockeyChallengeWrapper.step\u001b[0;34m(self, action)\u001b[0m\n\u001b[1;32m     54\u001b[0m \u001b[38;5;28;01mdef\u001b[39;00m \u001b[38;5;21mstep\u001b[39m(\u001b[38;5;28mself\u001b[39m, action):\n\u001b[0;32m---> 55\u001b[0m     obs, reward, done, info \u001b[38;5;241m=\u001b[39m \u001b[38;5;28;43mself\u001b[39;49m\u001b[38;5;241;43m.\u001b[39;49m\u001b[43mbase_env\u001b[49m\u001b[38;5;241;43m.\u001b[39;49m\u001b[43mstep\u001b[49m\u001b[43m(\u001b[49m\u001b[43maction\u001b[49m\u001b[43m)\u001b[49m\n\u001b[1;32m     57\u001b[0m     \u001b[38;5;28;01mif\u001b[39;00m \u001b[38;5;124m\"\u001b[39m\u001b[38;5;124mopponent\u001b[39m\u001b[38;5;124m\"\u001b[39m \u001b[38;5;129;01min\u001b[39;00m \u001b[38;5;28mself\u001b[39m\u001b[38;5;241m.\u001b[39menv_name:\n\u001b[1;32m     58\u001b[0m         action \u001b[38;5;241m=\u001b[39m \u001b[38;5;28mself\u001b[39m\u001b[38;5;241m.\u001b[39mbase_env\u001b[38;5;241m.\u001b[39maction[:, :\u001b[38;5;28mself\u001b[39m\u001b[38;5;241m.\u001b[39menv_info[\u001b[38;5;124m'\u001b[39m\u001b[38;5;124mrobot\u001b[39m\u001b[38;5;124m'\u001b[39m][\u001b[38;5;124m\"\u001b[39m\u001b[38;5;124mn_joints\u001b[39m\u001b[38;5;124m\"\u001b[39m]]\n",
      "File \u001b[0;32m~/.local/lib/python3.10/site-packages/mushroom_rl/environments/mujoco.py:157\u001b[0m, in \u001b[0;36mMuJoCo.step\u001b[0;34m(self, action)\u001b[0m\n\u001b[1;32m    153\u001b[0m     mujoco\u001b[38;5;241m.\u001b[39mmj_step(\u001b[38;5;28mself\u001b[39m\u001b[38;5;241m.\u001b[39m_model, \u001b[38;5;28mself\u001b[39m\u001b[38;5;241m.\u001b[39m_data, \u001b[38;5;28mself\u001b[39m\u001b[38;5;241m.\u001b[39m_n_substeps)\n\u001b[1;32m    155\u001b[0m     \u001b[38;5;28mself\u001b[39m\u001b[38;5;241m.\u001b[39m_simulation_post_step()\n\u001b[0;32m--> 157\u001b[0m     cur_obs \u001b[38;5;241m=\u001b[39m \u001b[38;5;28mself\u001b[39m\u001b[38;5;241m.\u001b[39m_create_observation(\u001b[38;5;28;43mself\u001b[39;49m\u001b[38;5;241;43m.\u001b[39;49m\u001b[43mobs_helper\u001b[49m\u001b[38;5;241;43m.\u001b[39;49m\u001b[43m_build_obs\u001b[49m\u001b[43m(\u001b[49m\u001b[38;5;28;43mself\u001b[39;49m\u001b[38;5;241;43m.\u001b[39;49m\u001b[43m_data\u001b[49m\u001b[43m)\u001b[49m)\n\u001b[1;32m    159\u001b[0m \u001b[38;5;28mself\u001b[39m\u001b[38;5;241m.\u001b[39m_step_finalize()\n\u001b[1;32m    161\u001b[0m absorbing \u001b[38;5;241m=\u001b[39m \u001b[38;5;28mself\u001b[39m\u001b[38;5;241m.\u001b[39mis_absorbing(cur_obs)\n",
      "File \u001b[0;32m~/.local/lib/python3.10/site-packages/mushroom_rl/utils/mujoco/observation_helper.py:162\u001b[0m, in \u001b[0;36mObservationHelper._build_obs\u001b[0;34m(self, data)\u001b[0m\n\u001b[1;32m    160\u001b[0m \u001b[38;5;28;01mfor\u001b[39;00m key, name, o_type \u001b[38;5;129;01min\u001b[39;00m \u001b[38;5;28mself\u001b[39m\u001b[38;5;241m.\u001b[39mobservation_spec:\n\u001b[1;32m    161\u001b[0m     omit \u001b[38;5;241m=\u001b[39m np\u001b[38;5;241m.\u001b[39marray(\u001b[38;5;28mself\u001b[39m\u001b[38;5;241m.\u001b[39mbuild_omit_idx[key])\n\u001b[0;32m--> 162\u001b[0m     obs \u001b[38;5;241m=\u001b[39m \u001b[38;5;28;43mself\u001b[39;49m\u001b[38;5;241;43m.\u001b[39;49m\u001b[43mget_state\u001b[49m\u001b[43m(\u001b[49m\u001b[43mdata\u001b[49m\u001b[43m,\u001b[49m\u001b[43m \u001b[49m\u001b[43mname\u001b[49m\u001b[43m,\u001b[49m\u001b[43m \u001b[49m\u001b[43mo_type\u001b[49m\u001b[43m)\u001b[49m\n\u001b[1;32m    163\u001b[0m     \u001b[38;5;28;01mif\u001b[39;00m \u001b[38;5;28mlen\u001b[39m(omit) \u001b[38;5;241m!=\u001b[39m \u001b[38;5;241m0\u001b[39m:\n\u001b[1;32m    164\u001b[0m         obs \u001b[38;5;241m=\u001b[39m np\u001b[38;5;241m.\u001b[39mdelete(obs, omit)\n",
      "File \u001b[0;32m~/.local/lib/python3.10/site-packages/mushroom_rl/utils/mujoco/observation_helper.py:189\u001b[0m, in \u001b[0;36mObservationHelper.get_state\u001b[0;34m(self, data, name, o_type)\u001b[0m\n\u001b[1;32m    187\u001b[0m \u001b[38;5;28;01mif\u001b[39;00m o_type \u001b[38;5;241m==\u001b[39m ObservationType\u001b[38;5;241m.\u001b[39mBODY_POS:\n\u001b[1;32m    188\u001b[0m     obs \u001b[38;5;241m=\u001b[39m data\u001b[38;5;241m.\u001b[39mbody(name)\u001b[38;5;241m.\u001b[39mxpos\n\u001b[0;32m--> 189\u001b[0m \u001b[38;5;28;01melif\u001b[39;00m o_type \u001b[38;5;241m==\u001b[39m ObservationType\u001b[38;5;241m.\u001b[39mBODY_ROT:\n\u001b[1;32m    190\u001b[0m     obs \u001b[38;5;241m=\u001b[39m data\u001b[38;5;241m.\u001b[39mbody(name)\u001b[38;5;241m.\u001b[39mxquat\n\u001b[1;32m    191\u001b[0m \u001b[38;5;28;01melif\u001b[39;00m o_type \u001b[38;5;241m==\u001b[39m ObservationType\u001b[38;5;241m.\u001b[39mBODY_VEL:\n",
      "\u001b[0;31mKeyboardInterrupt\u001b[0m: "
     ]
    }
   ],
   "source": [
    "evaluate(build_agent, 'some_folder/', ['3dof-hit'], 5, 1, model=model, device='cpu', render=True)"
   ]
  },
  {
   "cell_type": "code",
   "execution_count": null,
   "id": "c50dba87-6f66-43f9-8b24-48cbe05d4088",
   "metadata": {},
   "outputs": [],
   "source": []
  }
 ],
 "metadata": {
  "kernelspec": {
   "display_name": "Python 3 (ipykernel)",
   "language": "python",
   "name": "python3"
  },
  "language_info": {
   "codemirror_mode": {
    "name": "ipython",
    "version": 3
   },
   "file_extension": ".py",
   "mimetype": "text/x-python",
   "name": "python",
   "nbconvert_exporter": "python",
   "pygments_lexer": "ipython3",
   "version": "3.10.6"
  }
 },
 "nbformat": 4,
 "nbformat_minor": 5
}
