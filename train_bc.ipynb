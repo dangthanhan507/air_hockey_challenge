{
 "cells": [
  {
   "cell_type": "markdown",
   "id": "48c38a1b",
   "metadata": {},
   "source": [
    "## Basic Example"
   ]
  },
  {
   "cell_type": "markdown",
   "id": "1cff7e09-b816-45e4-9458-5f142de63f9b",
   "metadata": {},
   "source": [
    "### An Notes:\n",
    "- Behavior Cloning\n",
    "- import behavior cloning from imitation.algorithms\n",
    "- behavior cloning inputs\n",
    "    - observation space (Space data structure)\n",
    "    - action space (Space data structure)\n",
    "    - rng (Generator Data Structure)\n",
    "    - policy: ActorCriticPolicy data structure (from stablebaselines3 )\n",
    "    - demonstrations: (Trajectory iterable, TransitionsMinimal, or Iterable Mapping)\n",
    "    \n",
    "- ActorCriticPolicy => stablebaselines3\n",
    "- Space => OpenAI Gym library"
   ]
  },
  {
   "cell_type": "code",
   "execution_count": 1,
   "id": "0de6ce4e",
   "metadata": {
    "tags": []
   },
   "outputs": [
    {
     "data": {
      "text/plain": [
       "<stable_baselines3.ppo.ppo.PPO at 0x7ff6f5521ea0>"
      ]
     },
     "execution_count": 1,
     "metadata": {},
     "output_type": "execute_result"
    }
   ],
   "source": [
    "import gym\n",
    "from stable_baselines3 import PPO\n",
    "from stable_baselines3.ppo import MlpPolicy\n",
    "\n",
    "env = gym.make(\"CartPole-v1\")\n",
    "expert = PPO(\n",
    "    policy=MlpPolicy,\n",
    "    env=env,\n",
    "    seed=0,\n",
    "    batch_size=64,\n",
    "    ent_coef=0.0,\n",
    "    learning_rate=0.0003,\n",
    "    n_epochs=10,\n",
    "    n_steps=64,\n",
    ")\n",
    "expert.learn(1000)  # Note: set to 100000 to train a proficient expert\n",
    "\n",
    "\n",
    "#rollout definition:\n",
    "# how something plays out from current state"
   ]
  },
  {
   "cell_type": "code",
   "execution_count": 2,
   "id": "2489ad91",
   "metadata": {
    "tags": []
   },
   "outputs": [
    {
     "name": "stderr",
     "output_type": "stream",
     "text": [
      "/home/andang/.local/lib/python3.10/site-packages/stable_baselines3/common/evaluation.py:67: UserWarning: Evaluation environment is not wrapped with a ``Monitor`` wrapper. This may result in reporting modified episode lengths and rewards, if other wrappers happen to modify these. Consider wrapping environment first with ``Monitor`` wrapper.\n",
      "  warnings.warn(\n"
     ]
    },
    {
     "name": "stdout",
     "output_type": "stream",
     "text": [
      "185.1\n"
     ]
    }
   ],
   "source": [
    "from stable_baselines3.common.evaluation import evaluate_policy\n",
    "\n",
    "reward, _ = evaluate_policy(expert, env, 10)\n",
    "print(reward)"
   ]
  },
  {
   "cell_type": "code",
   "execution_count": 3,
   "id": "65fabdfe",
   "metadata": {
    "tags": []
   },
   "outputs": [],
   "source": [
    "import numpy as np\n",
    "from imitation.data import rollout\n",
    "from imitation.data.wrappers import RolloutInfoWrapper\n",
    "from stable_baselines3.common.vec_env import DummyVecEnv\n",
    "\n",
    "rng = np.random.default_rng()\n",
    "rollouts = rollout.rollout(\n",
    "    expert,\n",
    "    DummyVecEnv([lambda: RolloutInfoWrapper(env)]),\n",
    "    rollout.make_sample_until(min_timesteps=None, min_episodes=50),\n",
    "    rng=rng,\n",
    ")\n",
    "transitions = rollout.flatten_trajectories(rollouts)\n",
    "# transitions have 3 attributes\n",
    "# - obs\n",
    "# - acts aka actions\n",
    "# - next_obs aka next_actions\n",
    "# - dones\n",
    "# - info"
   ]
  },
  {
   "cell_type": "code",
   "execution_count": 4,
   "id": "948dec32",
   "metadata": {
    "tags": []
   },
   "outputs": [
    {
     "data": {
      "text/plain": [
       "Transitions(obs=array([[ 0.03072335, -0.00977635, -0.04372443, -0.03105337],\n",
       "       [ 0.03052782, -0.20424488, -0.04434549,  0.24751975],\n",
       "       [ 0.02644292, -0.00851858, -0.0393951 , -0.05881438],\n",
       "       ...,\n",
       "       [ 0.23966257,  0.9135243 ,  0.18704192,  0.02855892],\n",
       "       [ 0.25793305,  0.71628124,  0.18761311,  0.3739335 ],\n",
       "       [ 0.2722587 ,  0.5190588 ,  0.19509178,  0.7194112 ]],\n",
       "      dtype=float32), acts=array([0, 1, 1, ..., 0, 0, 1]), infos=array([{}, {}, {}, ..., {}, {}, {}], dtype=object), next_obs=array([[ 0.03052782, -0.20424488, -0.04434549,  0.24751975],\n",
       "       [ 0.02644292, -0.00851858, -0.0393951 , -0.05881438],\n",
       "       [ 0.02627255,  0.18714543, -0.04057138, -0.36366186],\n",
       "       ...,\n",
       "       [ 0.25793305,  0.71628124,  0.18761311,  0.3739335 ],\n",
       "       [ 0.2722587 ,  0.5190588 ,  0.19509178,  0.7194112 ],\n",
       "       [ 0.28263986,  0.71102333,  0.20948   ,  0.4939206 ]],\n",
       "      dtype=float32), dones=array([False, False, False, ..., False, False,  True]))"
      ]
     },
     "execution_count": 4,
     "metadata": {},
     "output_type": "execute_result"
    }
   ],
   "source": [
    "transitions"
   ]
  },
  {
   "cell_type": "code",
   "execution_count": 5,
   "id": "b0aa3acd",
   "metadata": {
    "tags": []
   },
   "outputs": [
    {
     "data": {
      "text/plain": [
       "array([{}, {}, {}, ..., {}, {}, {}], dtype=object)"
      ]
     },
     "execution_count": 5,
     "metadata": {},
     "output_type": "execute_result"
    }
   ],
   "source": [
    "transitions.infos"
   ]
  },
  {
   "cell_type": "code",
   "execution_count": 6,
   "id": "2969c02d",
   "metadata": {
    "tags": []
   },
   "outputs": [
    {
     "data": {
      "text/plain": [
       "(3064,)"
      ]
     },
     "execution_count": 6,
     "metadata": {},
     "output_type": "execute_result"
    }
   ],
   "source": [
    "transitions.infos.shape"
   ]
  },
  {
   "cell_type": "code",
   "execution_count": 7,
   "id": "7707cfa1",
   "metadata": {
    "tags": []
   },
   "outputs": [
    {
     "data": {
      "text/plain": [
       "array([0, 1, 1, ..., 0, 0, 1])"
      ]
     },
     "execution_count": 7,
     "metadata": {},
     "output_type": "execute_result"
    }
   ],
   "source": [
    "transitions.acts"
   ]
  },
  {
   "cell_type": "code",
   "execution_count": 8,
   "id": "fafca3ea",
   "metadata": {
    "tags": []
   },
   "outputs": [],
   "source": [
    "from imitation.algorithms import bc\n",
    "\n",
    "bc_trainer = bc.BC(\n",
    "    observation_space=env.observation_space,\n",
    "    action_space=env.action_space,\n",
    "    demonstrations=transitions,\n",
    "    rng=rng,\n",
    ")"
   ]
  },
  {
   "cell_type": "code",
   "execution_count": 9,
   "id": "47d3b6d1",
   "metadata": {
    "tags": []
   },
   "outputs": [
    {
     "name": "stdout",
     "output_type": "stream",
     "text": [
      "Reward before training: 104.0\n"
     ]
    }
   ],
   "source": [
    "reward_before_training, _ = evaluate_policy(bc_trainer.policy, env, 10)\n",
    "print(f\"Reward before training: {reward_before_training}\")"
   ]
  },
  {
   "cell_type": "code",
   "execution_count": 10,
   "id": "d201c6a4",
   "metadata": {
    "tags": []
   },
   "outputs": [
    {
     "name": "stderr",
     "output_type": "stream",
     "text": [
      "0batch [00:00, ?batch/s]"
     ]
    },
    {
     "name": "stdout",
     "output_type": "stream",
     "text": [
      "---------------------------------\n",
      "| batch_size        | 32        |\n",
      "| bc/               |           |\n",
      "|    batch          | 0         |\n",
      "|    ent_loss       | -0.000693 |\n",
      "|    entropy        | 0.693     |\n",
      "|    epoch          | 0         |\n",
      "|    l2_loss        | 0         |\n",
      "|    l2_norm        | 72.5      |\n",
      "|    loss           | 0.692     |\n",
      "|    neglogp        | 0.693     |\n",
      "|    prob_true_act  | 0.5       |\n",
      "|    samples_so_far | 32        |\n",
      "---------------------------------\n"
     ]
    },
    {
     "name": "stderr",
     "output_type": "stream",
     "text": [
      "95batch [00:01, 104.75batch/s]\n",
      "95batch [00:01, 94.20batch/s] \u001b[A\n"
     ]
    },
    {
     "name": "stdout",
     "output_type": "stream",
     "text": [
      "Reward after training: 121.8\n"
     ]
    }
   ],
   "source": [
    "bc_trainer.train(n_epochs=1)\n",
    "reward_after_training, _ = evaluate_policy(bc_trainer.policy, env, 10)\n",
    "print(f\"Reward after training: {reward_after_training}\")"
   ]
  },
  {
   "cell_type": "code",
   "execution_count": 11,
   "id": "4ac0ba44",
   "metadata": {
    "tags": []
   },
   "outputs": [],
   "source": [
    "bc_trainer.save_policy(\"bc_policy\")\n",
    "# Supposed to use reconstruct policy to load back in"
   ]
  },
  {
   "cell_type": "code",
   "execution_count": 12,
   "id": "32c14a6f",
   "metadata": {
    "tags": []
   },
   "outputs": [
    {
     "name": "stdout",
     "output_type": "stream",
     "text": [
      "Parameter containing:\n",
      "tensor([[-1.9931e-01,  1.1871e-01,  2.1681e-01, -2.8612e-02],\n",
      "        [ 2.5342e-01,  2.2416e-01, -1.6489e-01, -2.8988e-01],\n",
      "        [-2.1801e-01,  1.8459e-01,  6.3882e-02,  1.8900e-01],\n",
      "        [ 1.1188e-01,  8.0900e-02,  2.2855e-01,  1.2489e-01],\n",
      "        [ 1.2619e-01, -1.3515e-01,  4.8238e-02, -7.1517e-02],\n",
      "        [ 2.3515e-01, -1.3411e-01, -4.0923e-01,  3.0698e-01],\n",
      "        [-1.4544e-01, -1.9093e-02,  8.2905e-02, -1.7243e-01],\n",
      "        [-1.1564e-01,  2.7794e-01,  3.3697e-02,  9.1425e-02],\n",
      "        [ 9.1015e-02, -4.9472e-02,  1.2093e-01, -2.0191e-01],\n",
      "        [ 7.9515e-02,  1.2860e-01, -1.4759e-01, -5.5095e-01],\n",
      "        [ 3.1623e-01,  2.1549e-02,  1.8243e-03, -9.6266e-02],\n",
      "        [-9.5484e-02,  2.2127e-01,  3.7253e-02,  7.4869e-03],\n",
      "        [-1.3339e-01, -2.5973e-01,  4.0252e-01, -2.8703e-02],\n",
      "        [-2.2588e-01, -7.9444e-02, -8.7333e-02,  5.8340e-03],\n",
      "        [-1.2040e-01, -1.7251e-01, -5.0705e-03, -1.2205e-01],\n",
      "        [ 5.5180e-02,  8.1029e-02, -2.3748e-02,  1.2112e-01],\n",
      "        [-1.1367e-01,  1.6716e-01,  1.2331e-01,  2.0957e-01],\n",
      "        [ 2.0504e-01,  1.7912e-01,  1.8512e-01,  4.0586e-02],\n",
      "        [ 1.8908e-01,  5.0654e-02, -3.0152e-02, -1.2081e-01],\n",
      "        [ 9.9673e-02,  1.6514e-01,  7.0755e-02, -4.2821e-02],\n",
      "        [ 2.1550e-01, -8.7108e-04, -1.3144e-01, -3.6349e-01],\n",
      "        [ 1.1577e-01, -3.9506e-03,  2.3525e-01,  9.6452e-02],\n",
      "        [-5.1499e-02, -1.4575e-02,  1.0981e-01, -1.3843e-01],\n",
      "        [-1.1286e-01, -6.2609e-02,  1.0593e-01, -6.2723e-01],\n",
      "        [-2.2095e-01, -1.5451e-02, -6.9962e-02, -2.5766e-01],\n",
      "        [ 8.3739e-02, -3.2450e-03, -2.7578e-01, -2.7102e-01],\n",
      "        [-1.5891e-01, -9.2692e-02, -9.7440e-02, -3.0493e-01],\n",
      "        [-2.7078e-01,  4.1668e-04,  2.7954e-02,  2.3411e-01],\n",
      "        [-5.3790e-02,  3.0029e-01,  8.9702e-03, -8.2815e-02],\n",
      "        [ 3.0722e-01,  1.0988e-01, -4.2656e-01,  1.9861e-01],\n",
      "        [ 1.4287e-01, -9.8279e-02,  1.4197e-01, -1.6728e-01],\n",
      "        [-1.5379e-01,  2.8465e-01,  2.6719e-01, -1.1185e-01],\n",
      "        [-1.6446e-01, -9.6804e-02, -9.5076e-02, -3.3583e-02],\n",
      "        [-1.5125e-01, -3.8863e-01, -1.1787e-01, -8.1115e-02],\n",
      "        [-5.2915e-02, -4.3656e-03,  8.4214e-02,  6.6905e-02],\n",
      "        [-6.4856e-02,  4.8364e-02,  9.0093e-02,  1.4889e-01],\n",
      "        [ 9.7950e-02, -1.4321e-01,  1.4559e-01, -1.8534e-01],\n",
      "        [ 2.8563e-01, -2.5883e-01,  3.1686e-01,  1.7050e-01],\n",
      "        [ 1.8333e-01, -2.1558e-02,  1.4814e-01,  4.3180e-02],\n",
      "        [-3.1115e-02,  1.2005e-01, -2.3852e-02,  2.0881e-01],\n",
      "        [-5.3468e-02, -1.5170e-01, -7.8775e-02,  4.3833e-02],\n",
      "        [-6.8619e-02, -2.0591e-01,  5.2648e-01,  3.9359e-02],\n",
      "        [ 3.0415e-01, -2.4676e-01,  1.4748e-01,  9.3314e-02],\n",
      "        [ 9.3339e-02, -2.8340e-01,  9.2264e-02,  1.4346e-01],\n",
      "        [ 2.6188e-01,  3.9230e-01, -1.2384e-01, -1.4230e-01],\n",
      "        [-1.1871e-01,  2.1437e-01,  1.8019e-01, -1.2673e-01],\n",
      "        [-1.2936e-01,  2.6267e-02, -9.6407e-02,  4.6393e-01],\n",
      "        [ 1.6065e-01, -2.1290e-01,  8.9405e-02,  1.2612e-01],\n",
      "        [-3.1766e-02,  4.2231e-01,  2.1207e-02, -2.4745e-01],\n",
      "        [ 1.0890e-01, -2.8353e-01,  3.0360e-01,  2.7814e-01],\n",
      "        [-1.2997e-01, -1.9797e-02,  3.7622e-02, -2.6302e-02],\n",
      "        [-3.4222e-02,  2.9851e-01,  2.3450e-01, -1.0008e-01],\n",
      "        [ 4.1915e-01, -2.6141e-01,  1.6841e-01, -1.5245e-01],\n",
      "        [-7.9538e-02, -5.5027e-02,  2.7303e-01,  2.1087e-01],\n",
      "        [-1.4503e-02, -1.1216e-01, -3.3089e-01, -8.0567e-02],\n",
      "        [ 5.9181e-02,  7.9244e-02,  1.1187e-01,  1.1413e-02],\n",
      "        [-1.0196e-01, -1.7174e-03,  2.1693e-02,  3.1315e-01],\n",
      "        [-1.0232e-01, -2.5130e-01,  8.0548e-02,  3.3685e-02],\n",
      "        [ 1.2508e-01,  8.5063e-02, -7.6054e-03, -4.1250e-02],\n",
      "        [ 8.1146e-02, -1.0154e-01, -1.4926e-01, -6.5258e-02],\n",
      "        [ 1.6793e-01, -1.2142e-01, -1.7602e-01, -1.2454e-01],\n",
      "        [ 2.4480e-01,  2.3550e-01,  2.3027e-01,  2.9664e-01],\n",
      "        [-1.0198e-01, -1.0798e-01,  7.1968e-03,  1.5674e-01],\n",
      "        [-5.3986e-01, -3.0326e-01, -1.5224e-01,  1.2132e-01]], device='cuda:0',\n",
      "       requires_grad=True)\n",
      "<class 'torch.nn.parameter.Parameter'>\n",
      "Parameter containing:\n",
      "tensor([ 0.0015,  0.0054, -0.0037, -0.0037,  0.0053, -0.0034,  0.0024, -0.0022,\n",
      "         0.0032,  0.0063,  0.0032,  0.0018, -0.0038, -0.0018,  0.0038, -0.0017,\n",
      "        -0.0031, -0.0005,  0.0033,  0.0045,  0.0048, -0.0021,  0.0039,  0.0061,\n",
      "         0.0044,  0.0048,  0.0048, -0.0038,  0.0034, -0.0033,  0.0065,  0.0021,\n",
      "         0.0020,  0.0003, -0.0025, -0.0035,  0.0021, -0.0044, -0.0032, -0.0037,\n",
      "        -0.0059, -0.0045, -0.0032, -0.0037,  0.0043,  0.0004, -0.0050, -0.0018,\n",
      "         0.0044, -0.0044,  0.0020,  0.0053,  0.0039, -0.0035,  0.0036, -0.0006,\n",
      "        -0.0053, -0.0033,  0.0024,  0.0043,  0.0067, -0.0098, -0.0090, -0.0033],\n",
      "       device='cuda:0', requires_grad=True)\n",
      "<class 'torch.nn.parameter.Parameter'>\n",
      "Parameter containing:\n",
      "tensor([[-0.1645, -0.0291, -0.0185,  ..., -0.1558, -0.0114, -0.0190],\n",
      "        [ 0.0896,  0.1690,  0.2637,  ...,  0.0609,  0.0332, -0.3049],\n",
      "        [ 0.0522,  0.0233, -0.0676,  ..., -0.0457, -0.2685,  0.3073],\n",
      "        ...,\n",
      "        [-0.0353,  0.1376, -0.0109,  ...,  0.1829,  0.0336, -0.2116],\n",
      "        [-0.1163,  0.2207,  0.1494,  ...,  0.1684,  0.1695,  0.1051],\n",
      "        [-0.0170, -0.0887,  0.2065,  ...,  0.2994,  0.2567,  0.2853]],\n",
      "       device='cuda:0', requires_grad=True)\n",
      "<class 'torch.nn.parameter.Parameter'>\n",
      "Parameter containing:\n",
      "tensor([ 0.0012,  0.0007, -0.0009, -0.0013, -0.0028,  0.0020,  0.0012,  0.0010,\n",
      "         0.0014,  0.0016,  0.0014, -0.0031, -0.0024, -0.0020,  0.0008, -0.0010,\n",
      "         0.0010, -0.0002, -0.0024,  0.0006, -0.0015,  0.0011,  0.0005,  0.0013,\n",
      "         0.0018,  0.0020, -0.0016, -0.0002, -0.0017, -0.0018,  0.0010,  0.0020,\n",
      "         0.0012,  0.0016,  0.0029,  0.0018, -0.0018, -0.0022,  0.0015,  0.0018,\n",
      "         0.0022, -0.0013,  0.0004, -0.0021,  0.0018,  0.0007,  0.0013,  0.0006,\n",
      "        -0.0017, -0.0012, -0.0004,  0.0019,  0.0018,  0.0017,  0.0011,  0.0038,\n",
      "        -0.0014, -0.0006,  0.0018,  0.0025,  0.0012, -0.0018, -0.0006, -0.0008],\n",
      "       device='cuda:0', requires_grad=True)\n",
      "<class 'torch.nn.parameter.Parameter'>\n",
      "Parameter containing:\n",
      "tensor([[ 0.4138, -0.1279, -0.2459, -0.0745],\n",
      "        [ 0.0460,  0.1384, -0.1386, -0.1847],\n",
      "        [ 0.3940, -0.2032,  0.0015, -0.3510],\n",
      "        [-0.1674, -0.1913, -0.1805,  0.0407],\n",
      "        [-0.0811,  0.3598,  0.0809, -0.0036],\n",
      "        [-0.1584, -0.2400, -0.2556,  0.0876],\n",
      "        [-0.1377,  0.1977, -0.0179, -0.0010],\n",
      "        [-0.1303, -0.1521,  0.1853, -0.0311],\n",
      "        [-0.2948, -0.1745, -0.0619, -0.1095],\n",
      "        [-0.3515, -0.0780, -0.2704, -0.0378],\n",
      "        [-0.0017, -0.1992,  0.1814,  0.4479],\n",
      "        [-0.2277,  0.0568, -0.2899, -0.3359],\n",
      "        [-0.1526, -0.1128, -0.0960, -0.0715],\n",
      "        [ 0.1605,  0.1656,  0.0234,  0.0894],\n",
      "        [-0.2352, -0.0541,  0.1091, -0.1171],\n",
      "        [ 0.1949,  0.0439, -0.1416, -0.0413],\n",
      "        [-0.0996, -0.2986,  0.3178, -0.1427],\n",
      "        [ 0.1831,  0.2032, -0.0256,  0.0256],\n",
      "        [ 0.1277,  0.0592, -0.0561,  0.2893],\n",
      "        [ 0.0943, -0.0308, -0.0195,  0.1675],\n",
      "        [ 0.1769,  0.1095, -0.0203, -0.4047],\n",
      "        [ 0.1299, -0.0477,  0.1154,  0.2335],\n",
      "        [-0.0202,  0.1735,  0.2761,  0.0031],\n",
      "        [ 0.0444,  0.0427, -0.1364, -0.0719],\n",
      "        [ 0.2415,  0.0827, -0.1467,  0.3169],\n",
      "        [-0.1320,  0.0640, -0.3313,  0.0111],\n",
      "        [-0.2072,  0.1288,  0.0245, -0.0534],\n",
      "        [ 0.0362,  0.1906, -0.2704,  0.1330],\n",
      "        [ 0.2486,  0.3062, -0.0528,  0.1411],\n",
      "        [ 0.3061, -0.2582,  0.2422,  0.0367],\n",
      "        [ 0.1353, -0.1638, -0.2003,  0.2423],\n",
      "        [-0.1283, -0.0881,  0.0941,  0.0528],\n",
      "        [ 0.0822, -0.1003, -0.0059, -0.1114],\n",
      "        [-0.0687, -0.0036,  0.0472,  0.2931],\n",
      "        [ 0.0321, -0.0957,  0.1818,  0.1006],\n",
      "        [ 0.1813,  0.2011,  0.3880, -0.0862],\n",
      "        [ 0.0042,  0.1108,  0.0488, -0.2500],\n",
      "        [-0.0318,  0.0449,  0.2762,  0.1384],\n",
      "        [-0.1196,  0.0978, -0.0162,  0.0422],\n",
      "        [-0.0903,  0.1305, -0.0337,  0.3567],\n",
      "        [-0.2719,  0.3024,  0.0965,  0.2231],\n",
      "        [-0.1040, -0.0923, -0.2204, -0.1003],\n",
      "        [ 0.1673,  0.1537, -0.2131,  0.0245],\n",
      "        [-0.2794,  0.1134, -0.0124,  0.0793],\n",
      "        [-0.1244,  0.0068, -0.0380, -0.0954],\n",
      "        [-0.2038,  0.0277,  0.0532, -0.1666],\n",
      "        [-0.0134,  0.1341, -0.0128, -0.0015],\n",
      "        [-0.1516,  0.3312,  0.0628, -0.0477],\n",
      "        [ 0.2393, -0.1627,  0.3181, -0.0638],\n",
      "        [ 0.3434,  0.1927, -0.1981, -0.1816],\n",
      "        [ 0.2005,  0.3692, -0.1052,  0.0868],\n",
      "        [ 0.0269, -0.0116, -0.2908, -0.0954],\n",
      "        [-0.0524,  0.2402,  0.2418, -0.0907],\n",
      "        [-0.1871,  0.3166, -0.0183,  0.0217],\n",
      "        [ 0.1097, -0.2983, -0.3647,  0.0577],\n",
      "        [ 0.1734, -0.2005,  0.0228, -0.1374],\n",
      "        [-0.2404, -0.0958,  0.0914, -0.0886],\n",
      "        [-0.0495, -0.0470,  0.2695, -0.3958],\n",
      "        [ 0.0790,  0.0588,  0.0821, -0.1645],\n",
      "        [-0.0158, -0.1603,  0.1264, -0.0303],\n",
      "        [-0.0374,  0.0533, -0.2738,  0.0387],\n",
      "        [-0.0870,  0.1945,  0.1032,  0.0888],\n",
      "        [ 0.1034,  0.1172,  0.0609,  0.0273],\n",
      "        [-0.0911, -0.2728,  0.0482,  0.3193]], device='cuda:0',\n",
      "       requires_grad=True)\n",
      "<class 'torch.nn.parameter.Parameter'>\n",
      "Parameter containing:\n",
      "tensor([-0.0512, -0.0544, -0.0469, -0.0570,  0.0608, -0.0280,  0.0621,  0.0572,\n",
      "        -0.0577, -0.0660,  0.0337,  0.0458,  0.0508,  0.0640, -0.0513, -0.0575,\n",
      "        -0.0545, -0.0517,  0.0544,  0.0541,  0.0536, -0.0629,  0.0568,  0.0494,\n",
      "        -0.0513, -0.0567, -0.0586, -0.0600, -0.0461,  0.0457,  0.0464, -0.0617,\n",
      "        -0.0610,  0.0457, -0.0488, -0.0546, -0.0475, -0.0498, -0.0544, -0.0506,\n",
      "         0.0495, -0.0496, -0.0620,  0.0536,  0.0520, -0.0615, -0.0526,  0.0537,\n",
      "        -0.0510, -0.0474,  0.0473, -0.0508,  0.0618,  0.0481,  0.0492,  0.0507,\n",
      "        -0.0495, -0.0476, -0.0483, -0.0493, -0.0521,  0.0484,  0.0508,  0.0436],\n",
      "       device='cuda:0', requires_grad=True)\n",
      "<class 'torch.nn.parameter.Parameter'>\n",
      "Parameter containing:\n",
      "tensor([[ 0.1060,  0.2420, -0.2627,  ..., -0.2600, -0.1057, -0.4338],\n",
      "        [-0.0874, -0.1382, -0.0549,  ..., -0.0292,  0.2610,  0.2008],\n",
      "        [-0.1104,  0.0657,  0.1381,  ...,  0.4346, -0.3752, -0.1194],\n",
      "        ...,\n",
      "        [-0.1571,  0.0707, -0.1452,  ...,  0.1366, -0.0152, -0.2200],\n",
      "        [ 0.1996, -0.0683,  0.1102,  ..., -0.1263,  0.0479,  0.2207],\n",
      "        [ 0.0479,  0.2503, -0.2227,  ...,  0.1550,  0.0130,  0.1824]],\n",
      "       device='cuda:0', requires_grad=True)\n",
      "<class 'torch.nn.parameter.Parameter'>\n",
      "Parameter containing:\n",
      "tensor([-0.0429,  0.0424, -0.0432, -0.0437,  0.0446,  0.0449, -0.0512, -0.0431,\n",
      "        -0.0424,  0.0457,  0.0517, -0.0435, -0.0459, -0.0354,  0.0560,  0.0450,\n",
      "        -0.0434, -0.0470,  0.0433,  0.0425,  0.0426, -0.0527, -0.0508,  0.0476,\n",
      "         0.0471,  0.0492,  0.0488,  0.0436,  0.0433,  0.0467, -0.0632, -0.0538,\n",
      "         0.0426, -0.0446,  0.0447,  0.0447, -0.0654, -0.0578,  0.0459, -0.0443,\n",
      "         0.0523,  0.0433,  0.0464, -0.0423,  0.0465,  0.0465,  0.0452, -0.0432,\n",
      "         0.0428, -0.0443, -0.0460, -0.0433,  0.0446,  0.0425, -0.0427,  0.0468,\n",
      "         0.0450, -0.0451, -0.0439, -0.0436, -0.0454, -0.0417, -0.0622, -0.0451],\n",
      "       device='cuda:0', requires_grad=True)\n",
      "<class 'torch.nn.parameter.Parameter'>\n",
      "Parameter containing:\n",
      "tensor([[ 0.0321,  0.0188, -0.0290, -0.0377, -0.0348,  0.0388,  0.0359,  0.0349,\n",
      "          0.0444,  0.0378,  0.0322, -0.0331, -0.0352, -0.0350,  0.0407, -0.0328,\n",
      "          0.0360, -0.0283, -0.0331,  0.0315, -0.0316,  0.0357,  0.0286,  0.0336,\n",
      "          0.0326,  0.0319, -0.0400, -0.0304, -0.0346, -0.0401,  0.0461,  0.0451,\n",
      "          0.0320,  0.0474,  0.0332,  0.0358, -0.0370, -0.0408,  0.0332,  0.0358,\n",
      "          0.0314, -0.0528,  0.0289, -0.0420,  0.0324,  0.0304,  0.0255,  0.0258,\n",
      "         -0.0368, -0.0449, -0.0244,  0.0308,  0.0354,  0.0431,  0.0361,  0.0233,\n",
      "         -0.0445, -0.0260,  0.0437,  0.0342,  0.0339, -0.0467, -0.0331, -0.0399],\n",
      "        [-0.0344, -0.0149,  0.0281,  0.0376,  0.0349, -0.0395, -0.0337, -0.0331,\n",
      "         -0.0450, -0.0367, -0.0293,  0.0352,  0.0343,  0.0343, -0.0415,  0.0310,\n",
      "         -0.0344,  0.0315,  0.0321, -0.0317,  0.0321, -0.0344, -0.0275, -0.0324,\n",
      "         -0.0323, -0.0324,  0.0389,  0.0274,  0.0347,  0.0409, -0.0439, -0.0446,\n",
      "         -0.0313, -0.0493, -0.0357, -0.0363,  0.0349,  0.0402, -0.0334, -0.0340,\n",
      "         -0.0328,  0.0464, -0.0316,  0.0424, -0.0340, -0.0308, -0.0265, -0.0257,\n",
      "          0.0392,  0.0414,  0.0221, -0.0318, -0.0349, -0.0427, -0.0353, -0.0257,\n",
      "          0.0442,  0.0279, -0.0447, -0.0342, -0.0318,  0.0481,  0.0326,  0.0396]],\n",
      "       device='cuda:0', requires_grad=True)\n",
      "<class 'torch.nn.parameter.Parameter'>\n",
      "Parameter containing:\n",
      "tensor([ 0.0037, -0.0037], device='cuda:0', requires_grad=True)\n",
      "<class 'torch.nn.parameter.Parameter'>\n",
      "Parameter containing:\n",
      "tensor([[-0.2937,  0.1090, -0.2295, -0.1344,  0.1725,  0.1893, -0.0725, -0.1847,\n",
      "         -0.3204,  0.0645,  0.0543, -0.0840, -0.1343, -0.0069,  0.0585,  0.1293,\n",
      "         -0.1213, -0.0814,  0.2224,  0.3398,  0.2319, -0.0821, -0.0872,  0.1338,\n",
      "          0.1102,  0.0995,  0.0804,  0.1675,  0.1871,  0.0520, -0.0422, -0.0400,\n",
      "          0.0302, -0.2127,  0.1066,  0.1185, -0.0341, -0.0294,  0.1734, -0.1403,\n",
      "          0.0429,  0.1589,  0.1031, -0.3966,  0.0828,  0.0694,  0.0809, -0.1781,\n",
      "          0.3164, -0.2001, -0.0715, -0.1427,  0.1197,  0.1210, -0.3161,  0.0552,\n",
      "          0.1090, -0.0943, -0.2117, -0.2588, -0.1361, -0.0710, -0.0410, -0.1415]],\n",
      "       device='cuda:0', requires_grad=True)\n",
      "<class 'torch.nn.parameter.Parameter'>\n",
      "Parameter containing:\n",
      "tensor([0.0416], device='cuda:0', requires_grad=True)\n",
      "<class 'torch.nn.parameter.Parameter'>\n"
     ]
    }
   ],
   "source": [
    "# Can extract model weights from policy parameters\n",
    "for i in expert.policy.parameters():\n",
    "    print(i)\n",
    "    print(type(i))"
   ]
  },
  {
   "cell_type": "code",
   "execution_count": 13,
   "id": "1c87c559",
   "metadata": {
    "tags": []
   },
   "outputs": [
    {
     "data": {
      "text/plain": [
       "(9155,)"
      ]
     },
     "execution_count": 13,
     "metadata": {},
     "output_type": "execute_result"
    }
   ],
   "source": [
    "expert_weights = expert.policy.parameters_to_vector()\n",
    "expert_weights.shape"
   ]
  },
  {
   "cell_type": "code",
   "execution_count": 14,
   "id": "ff05771f",
   "metadata": {
    "tags": []
   },
   "outputs": [
    {
     "data": {
      "text/plain": [
       "(2531,)"
      ]
     },
     "execution_count": 14,
     "metadata": {},
     "output_type": "execute_result"
    }
   ],
   "source": [
    "bc_weights = bc_trainer.policy.parameters_to_vector()\n",
    "bc_weights.shape\n",
    "# Hmm, why are the shapes different???"
   ]
  },
  {
   "cell_type": "markdown",
   "id": "28c09e0d",
   "metadata": {},
   "source": [
    "# Now Train BC for Air Hockey"
   ]
  },
  {
   "cell_type": "code",
   "execution_count": 15,
   "id": "833071a5",
   "metadata": {
    "tags": []
   },
   "outputs": [],
   "source": [
    "from air_hockey_challenge.framework.evaluate_agent import evaluate, custom_evaluate\n",
    "from baseline.baseline_agent.baseline_agent import build_agent\n",
    "\n",
    "import pickle"
   ]
  },
  {
   "cell_type": "code",
   "execution_count": 16,
   "id": "ff3b56d0",
   "metadata": {
    "tags": []
   },
   "outputs": [
    {
     "name": "stdout",
     "output_type": "stream",
     "text": [
      "=== CUSTOM EVALUATE ===\n"
     ]
    },
    {
     "name": "stderr",
     "output_type": "stream",
     "text": [
      "  0%|                                                     | 0/5 [00:00<?, ?it/s]"
     ]
    },
    {
     "name": "stdout",
     "output_type": "stream",
     "text": [
      "Agent:  1 Switch tactic from:  READY  to:  SMASH\n",
      "Agent:  1 Switch tactic from:  SMASH  to:  READY\n"
     ]
    },
    {
     "name": "stderr",
     "output_type": "stream",
     "text": [
      " 20%|█████████                                    | 1/5 [00:06<00:24,  6.19s/it]"
     ]
    },
    {
     "name": "stdout",
     "output_type": "stream",
     "text": [
      "Agent:  1 Switch tactic from:  READY  to:  SMASH\n",
      "Agent:  1 Switch tactic from:  SMASH  to:  READY\n"
     ]
    },
    {
     "name": "stderr",
     "output_type": "stream",
     "text": [
      " 40%|██████████████████                           | 2/5 [00:12<00:19,  6.35s/it]"
     ]
    },
    {
     "name": "stdout",
     "output_type": "stream",
     "text": [
      "Agent:  1 Switch tactic from:  READY  to:  SMASH\n",
      "Agent:  1 Switch tactic from:  SMASH  to:  READY\n"
     ]
    },
    {
     "name": "stderr",
     "output_type": "stream",
     "text": [
      " 60%|███████████████████████████                  | 3/5 [00:19<00:13,  6.51s/it]"
     ]
    },
    {
     "name": "stdout",
     "output_type": "stream",
     "text": [
      "Agent:  1 Switch tactic from:  READY  to:  SMASH\n",
      "Agent:  1 Switch tactic from:  SMASH  to:  READY\n"
     ]
    },
    {
     "name": "stderr",
     "output_type": "stream",
     "text": [
      " 80%|████████████████████████████████████         | 4/5 [00:25<00:06,  6.29s/it]"
     ]
    },
    {
     "name": "stdout",
     "output_type": "stream",
     "text": [
      "Agent:  1 Switch tactic from:  READY  to:  SMASH\n",
      "Agent:  1 Switch tactic from:  SMASH  to:  READY\n"
     ]
    },
    {
     "name": "stderr",
     "output_type": "stream",
     "text": [
      "                                                                                "
     ]
    },
    {
     "name": "stdout",
     "output_type": "stream",
     "text": [
      "DATA: [(1.0, 12.0, defaultdict(<class 'list'>, {'Episode 0': ['jerk > 10000', 'max computation_time > 0.02s'], 'Episode 1': ['jerk > 10000', 'max computation_time > 0.02s'], 'Episode 2': ['jerk > 10000', 'mean computation_time > 0.02s'], 'Episode 3': ['jerk > 10000', 'mean computation_time > 0.02s'], 'Episode 4': ['jerk > 10000', 'mean computation_time > 0.02s']}), dict_keys(['joint_pos_constr', 'joint_vel_constr', 'ee_constr']), 574)]\n",
      "=================================================\n",
      "Environment:        3dof-hit\n",
      "Number of Episodes: 5\n",
      "Success:            1.0000\n",
      "Penalty:            12.0\n",
      "Number of Violations: \n",
      "  Jerk              5\n",
      "  Computation Time  5\n",
      "  Total             10\n",
      "-------------------------------------------------\n",
      "\n"
     ]
    },
    {
     "name": "stderr",
     "output_type": "stream",
     "text": [
      "\r"
     ]
    }
   ],
   "source": [
    "config = {'render': True, 'quiet': False, 'n_episodes': 5, 'n_cores': 1, 'log_dir': 'logs', 'seed': None, 'generate_score': 'phase-1', 'env_list': ['3dof-hit']}\n",
    "custom_evaluate(build_agent, **config)"
   ]
  },
  {
   "cell_type": "code",
   "execution_count": 79,
   "id": "203797d3",
   "metadata": {
    "tags": []
   },
   "outputs": [],
   "source": [
    "with open(\"training_data.pkl\", \"rb\") as f:\n",
    "    training_data = pickle.load(f)\n",
    "    obs = training_data[\"obs\"]\n",
    "    actions = training_data[\"actions\"].reshape(training_data[\"actions\"].shape[0],-1)\n",
    "    next_obs = training_data[\"next_obs\"] # <- for next run, this will be renamed to next obs\n",
    "    dones = training_data[\"dones\"]\n",
    "    info = training_data[\"info\"]"
   ]
  },
  {
   "cell_type": "code",
   "execution_count": 80,
   "id": "37f09a14",
   "metadata": {
    "tags": []
   },
   "outputs": [],
   "source": [
    "from imitation.data.types import Transitions\n",
    "\n",
    "transitions = Transitions(obs=obs, acts=actions, infos=info, next_obs=next_obs, dones=dones)"
   ]
  },
  {
   "cell_type": "code",
   "execution_count": 81,
   "id": "20ccacdb",
   "metadata": {
    "tags": []
   },
   "outputs": [],
   "source": [
    "from air_hockey_challenge.framework.air_hockey_challenge_wrapper import AirHockeyChallengeWrapper\n",
    "import gym\n",
    "\n",
    "mdp = AirHockeyChallengeWrapper(env=\"3dof-hit\")\n",
    "obs_space = mdp.info.observation_space\n",
    "bc_obs_space = gym.spaces.Box(low=obs_space.low, high=obs_space.high, shape=obs_space.shape)\n",
    "\n",
    "\n",
    "#this deceives u.... action_space from mdp only shows the torque limits\n",
    "action_space = mdp.info.action_space\n",
    "\n",
    "jnt_range = mdp.base_env.env_info['robot']['robot_model'].jnt_range\n",
    "vel_range = mdp.base_env.env_info['robot']['joint_vel_limit'].T * 0.95\n",
    "\n",
    "low = np.hstack((jnt_range[:,0][:,np.newaxis], vel_range[:,0][:,np.newaxis])).T\n",
    "high = np.hstack((jnt_range[:,1][:,np.newaxis], vel_range[:,1][:,np.newaxis])).T\n",
    "\n",
    "bc_action_space = gym.spaces.Box(low=low, high=high, shape=(2,3))"
   ]
  },
  {
   "cell_type": "code",
   "execution_count": 82,
   "id": "9d5e5442",
   "metadata": {
    "tags": []
   },
   "outputs": [],
   "source": [
    "from imitation.algorithms import bc\n",
    "import numpy as np\n",
    "\n",
    "rng = np.random.default_rng()\n",
    "bc_trainer = bc.BC(\n",
    "    observation_space=bc_obs_space,\n",
    "    action_space=bc_action_space,\n",
    "    demonstrations=transitions,\n",
    "    rng=rng,\n",
    ")"
   ]
  },
  {
   "cell_type": "code",
   "execution_count": null,
   "id": "f36f9564",
   "metadata": {
    "tags": []
   },
   "outputs": [
    {
     "name": "stderr",
     "output_type": "stream",
     "text": [
      "0batch [00:00, ?batch/s]"
     ]
    },
    {
     "name": "stdout",
     "output_type": "stream",
     "text": [
      "--------------------------------\n",
      "| batch_size        | 32       |\n",
      "| bc/               |          |\n",
      "|    batch          | 0        |\n",
      "|    ent_loss       | -0.00847 |\n",
      "|    entropy        | 8.47     |\n",
      "|    epoch          | 0        |\n",
      "|    l2_loss        | 0        |\n",
      "|    l2_norm        | 89.4     |\n",
      "|    loss           | 6.97     |\n",
      "|    neglogp        | 6.98     |\n",
      "|    prob_true_act  | 0.000998 |\n",
      "|    samples_so_far | 32       |\n",
      "--------------------------------\n"
     ]
    },
    {
     "name": "stderr",
     "output_type": "stream",
     "text": [
      "12batch [00:00, 54.70batch/s]\n",
      "31batch [00:00, 51.89batch/s]\u001b[A\n",
      "49batch [00:00, 51.98batch/s]\u001b[A\n",
      "67batch [00:01, 50.81batch/s]\u001b[A\n",
      "85batch [00:01, 52.82batch/s]\u001b[A\n",
      "97batch [00:01, 50.97batch/s]\u001b[A\n",
      "114batch [00:02, 51.50batch/s][A\n",
      "133batch [00:02, 55.04batch/s]\u001b[A\n",
      "151batch [00:02, 51.72batch/s]\u001b[A\n",
      "166batch [00:03, 59.80batch/s]\u001b[A\n",
      "177batch [00:03, 71.75batch/s]\u001b[A\n",
      "200batch [00:03, 88.69batch/s]\u001b[A\n",
      "218batch [00:03, 72.99batch/s]\u001b[A\n",
      "235batch [00:04, 70.14batch/s]\u001b[A\n",
      "245batch [00:04, 77.42batch/s]\u001b[A\n",
      "266batch [00:04, 87.01batch/s]\u001b[A\n",
      "283batch [00:04, 66.03batch/s]\u001b[A\n",
      "301batch [00:04, 71.80batch/s]\u001b[A\n",
      "312batch [00:04, 80.88batch/s]\u001b[A\n",
      "334batch [00:05, 79.82batch/s]\u001b[A\n",
      "351batch [00:05, 64.20batch/s]\u001b[A\n",
      "372batch [00:05, 79.41batch/s]\u001b[A\n",
      "383batch [00:05, 86.40batch/s]\u001b[A\n",
      "405batch [00:06, 86.58batch/s]\u001b[A\n",
      "424batch [00:06, 86.36batch/s]\u001b[A\n",
      "441batch [00:06, 64.65batch/s]\u001b[A\n",
      "459batch [00:06, 73.79batch/s]\u001b[A\n",
      "468batch [00:07, 77.34batch/s]\u001b[A\n",
      "485batch [00:07, 74.01batch/s]\u001b[A\n",
      "494batch [00:07, 74.82batch/s]\u001b[A"
     ]
    },
    {
     "name": "stdout",
     "output_type": "stream",
     "text": [
      "--------------------------------\n",
      "| batch_size        | 32       |\n",
      "| bc/               |          |\n",
      "|    batch          | 500      |\n",
      "|    ent_loss       | -0.00526 |\n",
      "|    entropy        | 5.26     |\n",
      "|    epoch          | 29       |\n",
      "|    l2_loss        | 0        |\n",
      "|    l2_norm        | 96.2     |\n",
      "|    loss           | 2.31     |\n",
      "|    neglogp        | 2.32     |\n",
      "|    prob_true_act  | 0.0991   |\n",
      "|    samples_so_far | 16032    |\n",
      "--------------------------------\n"
     ]
    },
    {
     "name": "stderr",
     "output_type": "stream",
     "text": [
      "510batch [00:07, 66.35batch/s]\n",
      "525batch [00:07, 69.38batch/s]\u001b[A\n",
      "535batch [00:07, 77.61batch/s]\u001b[A\n",
      "556batch [00:08, 87.43batch/s]\u001b[A\n",
      "575batch [00:08, 81.85batch/s]\u001b[A\n",
      "592batch [00:08, 73.66batch/s]\u001b[A\n",
      "607batch [00:08, 60.98batch/s]\u001b[A\n",
      "627batch [00:09, 55.37batch/s]\u001b[A\n",
      "640batch [00:09, 57.22batch/s]\u001b[A\n",
      "659batch [00:09, 53.52batch/s]\u001b[A\n",
      "679batch [00:10, 58.52batch/s]\u001b[A\n",
      "693batch [00:10, 62.12batch/s]\u001b[A\n",
      "714batch [00:10, 62.39batch/s]\u001b[A\n",
      "730batch [00:11, 69.07batch/s]\u001b[A\n",
      "737batch [00:11, 67.02batch/s]\u001b[A\n",
      "758batch [00:11, 80.90batch/s]\u001b[A\n",
      "775batch [00:11, 70.93batch/s]\u001b[A\n",
      "793batch [00:11, 77.95batch/s]\u001b[A\n",
      "809batch [00:12, 74.16batch/s]\u001b[A\n",
      "831batch [00:12, 62.60batch/s]\u001b[A\n",
      "845batch [00:12, 58.42batch/s]\u001b[A\n",
      "867batch [00:13, 66.90batch/s]\u001b[A\n",
      "881batch [00:13, 64.92batch/s]\u001b[A\n",
      "898batch [00:13, 72.51batch/s]\u001b[A\n",
      "914batch [00:13, 72.87batch/s]\u001b[A\n",
      "931batch [00:13, 78.66batch/s]\u001b[A\n",
      "947batch [00:14, 69.00batch/s]\u001b[A\n",
      "963batch [00:14, 69.34batch/s]\u001b[A\n",
      "984batch [00:14, 60.31batch/s]\u001b[A\n",
      "997batch [00:14, 56.86batch/s]\u001b[A"
     ]
    },
    {
     "name": "stdout",
     "output_type": "stream",
     "text": [
      "--------------------------------\n",
      "| batch_size        | 32       |\n",
      "| bc/               |          |\n",
      "|    batch          | 1000     |\n",
      "|    ent_loss       | -0.00222 |\n",
      "|    entropy        | 2.22     |\n",
      "|    epoch          | 58       |\n",
      "|    l2_loss        | 0        |\n",
      "|    l2_norm        | 103      |\n",
      "|    loss           | -0.757   |\n",
      "|    neglogp        | -0.755   |\n",
      "|    prob_true_act  | 2.13     |\n",
      "|    samples_so_far | 32032    |\n",
      "--------------------------------\n"
     ]
    },
    {
     "name": "stderr",
     "output_type": "stream",
     "text": [
      "1003batch [00:15, 54.72batch/s]\n",
      "1016batch [00:15, 57.33batch/s]\u001b[A\n",
      "1034batch [00:15, 53.29batch/s]\u001b[A\n",
      "1052batch [00:16, 51.36batch/s]\u001b[A\n",
      "1066batch [00:16, 59.07batch/s]\u001b[A\n",
      "1087batch [00:16, 63.44batch/s]\u001b[A\n",
      "1101batch [00:16, 61.83batch/s]\u001b[A\n",
      "1115batch [00:17, 64.00batch/s]\u001b[A\n",
      "1133batch [00:17, 73.85batch/s]\u001b[A\n",
      "1145batch [00:17, 86.55batch/s]\u001b[A\n",
      "1171batch [00:17, 105.23batch/s][A\n",
      "1182batch [00:17, 94.32batch/s] \u001b[A\n",
      "1205batch [00:17, 95.67batch/s]\u001b[A\n",
      "1216batch [00:18, 98.73batch/s]\u001b[A\n",
      "1237batch [00:18, 85.04batch/s]\u001b[A\n",
      "1255batch [00:18, 81.32batch/s]\u001b[A\n",
      "1272batch [00:18, 75.45batch/s]\u001b[A\n",
      "1289batch [00:19, 70.95batch/s]\u001b[A\n",
      "1308batch [00:19, 78.46batch/s]\u001b[A\n",
      "1325batch [00:19, 71.09batch/s]\u001b[A\n",
      "1340batch [00:19, 60.70batch/s]\u001b[A\n",
      "1355batch [00:20, 59.32batch/s]\u001b[A\n",
      "1370batch [00:20, 64.10batch/s]\u001b[A\n",
      "1390batch [00:20, 80.52batch/s]\u001b[A\n",
      "1410batch [00:20, 73.50batch/s]\u001b[A\n",
      "1427batch [00:21, 77.25batch/s]\u001b[A\n",
      "1443batch [00:21, 72.04batch/s]\u001b[A\n",
      "1460batch [00:21, 75.22batch/s]\u001b[A\n",
      "1475batch [00:21, 61.10batch/s]\u001b[A\n",
      "1489batch [00:22, 59.36batch/s]\u001b[A\n",
      "1499batch [00:22, 69.63batch/s]\u001b[A"
     ]
    },
    {
     "name": "stdout",
     "output_type": "stream",
     "text": [
      "--------------------------------\n",
      "| batch_size        | 32       |\n",
      "| bc/               |          |\n",
      "|    batch          | 1500     |\n",
      "|    ent_loss       | 0.000779 |\n",
      "|    entropy        | -0.779   |\n",
      "|    epoch          | 88       |\n",
      "|    l2_loss        | 0        |\n",
      "|    l2_norm        | 109      |\n",
      "|    loss           | -3.58    |\n",
      "|    neglogp        | -3.58    |\n",
      "|    prob_true_act  | 37.6     |\n",
      "|    samples_so_far | 48032    |\n",
      "--------------------------------\n"
     ]
    },
    {
     "name": "stderr",
     "output_type": "stream",
     "text": [
      "1510batch [00:22, 79.64batch/s]\n",
      "1520batch [00:22, 84.90batch/s]\u001b[A\n"
     ]
    }
   ],
   "source": [
    "bc_trainer.train(n_epochs=100)"
   ]
  },
  {
   "cell_type": "code",
   "execution_count": 84,
   "id": "fc840f95",
   "metadata": {
    "tags": []
   },
   "outputs": [
    {
     "name": "stderr",
     "output_type": "stream",
     "text": [
      "  0%|                                                     | 0/5 [00:00<?, ?it/s]"
     ]
    },
    {
     "name": "stdout",
     "output_type": "stream",
     "text": [
      "Agent:  1 Switch tactic from:  READY  to:  SMASH\n",
      "Agent:  1 Switch tactic from:  SMASH  to:  READY\n"
     ]
    },
    {
     "name": "stderr",
     "output_type": "stream",
     "text": [
      " 20%|█████████                                    | 1/5 [00:05<00:21,  5.32s/it]"
     ]
    },
    {
     "name": "stdout",
     "output_type": "stream",
     "text": [
      "Agent:  1 Switch tactic from:  READY  to:  SMASH\n",
      "Agent:  1 Switch tactic from:  SMASH  to:  READY\n"
     ]
    },
    {
     "name": "stderr",
     "output_type": "stream",
     "text": [
      " 40%|██████████████████                           | 2/5 [00:10<00:15,  5.16s/it]"
     ]
    },
    {
     "name": "stdout",
     "output_type": "stream",
     "text": [
      "Agent:  1 Switch tactic from:  READY  to:  SMASH\n",
      "Agent:  1 Switch tactic from:  SMASH  to:  READY\n"
     ]
    },
    {
     "name": "stderr",
     "output_type": "stream",
     "text": [
      " 60%|███████████████████████████                  | 3/5 [00:17<00:12,  6.09s/it]"
     ]
    },
    {
     "name": "stdout",
     "output_type": "stream",
     "text": [
      "Agent:  1 Switch tactic from:  READY  to:  SMASH\n",
      "Agent:  1 Switch tactic from:  SMASH  to:  READY\n"
     ]
    },
    {
     "name": "stderr",
     "output_type": "stream",
     "text": [
      " 80%|████████████████████████████████████         | 4/5 [00:23<00:06,  6.22s/it]"
     ]
    },
    {
     "name": "stdout",
     "output_type": "stream",
     "text": [
      "Agent:  1 Switch tactic from:  READY  to:  SMASH\n",
      "Agent:  1 Switch tactic from:  SMASH  to:  READY\n"
     ]
    },
    {
     "name": "stderr",
     "output_type": "stream",
     "text": [
      "                                                                                \r"
     ]
    },
    {
     "name": "stdout",
     "output_type": "stream",
     "text": [
      "=================================================\n",
      "Environment:        3dof-hit\n",
      "Number of Episodes: 5\n",
      "Success:            1.0000\n",
      "Penalty:            9.0\n",
      "Number of Violations: \n",
      "  Jerk              5\n",
      "  Computation Time  5\n",
      "  Total             10\n",
      "-------------------------------------------------\n",
      "\n"
     ]
    }
   ],
   "source": [
    "config = {'render': True, 'quiet': False, 'n_episodes': 5, 'n_cores': 1, 'log_dir': 'logs', 'seed': None, 'generate_score': 'phase-1', 'env_list': ['3dof-hit']}\n",
    "evaluate(build_agent, **config)"
   ]
  },
  {
   "cell_type": "code",
   "execution_count": null,
   "id": "f0340f5b-4a13-43d3-ac2d-9cffc330d4dc",
   "metadata": {},
   "outputs": [],
   "source": []
  }
 ],
 "metadata": {
  "kernelspec": {
   "display_name": "Python 3 (ipykernel)",
   "language": "python",
   "name": "python3"
  },
  "language_info": {
   "codemirror_mode": {
    "name": "ipython",
    "version": 3
   },
   "file_extension": ".py",
   "mimetype": "text/x-python",
   "name": "python",
   "nbconvert_exporter": "python",
   "pygments_lexer": "ipython3",
   "version": "3.10.6"
  }
 },
 "nbformat": 4,
 "nbformat_minor": 5
}
