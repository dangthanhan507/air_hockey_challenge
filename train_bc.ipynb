{
 "cells": [
  {
   "cell_type": "markdown",
   "id": "48c38a1b",
   "metadata": {},
   "source": [
    "## Basic Example"
   ]
  },
  {
   "cell_type": "code",
   "execution_count": 7,
   "id": "0de6ce4e",
   "metadata": {},
   "outputs": [
    {
     "data": {
      "text/plain": [
       "<stable_baselines3.ppo.ppo.PPO at 0x7f594834fd90>"
      ]
     },
     "execution_count": 7,
     "metadata": {},
     "output_type": "execute_result"
    }
   ],
   "source": [
    "import gym\n",
    "from stable_baselines3 import PPO\n",
    "from stable_baselines3.ppo import MlpPolicy\n",
    "\n",
    "env = gym.make(\"CartPole-v1\")\n",
    "expert = PPO(\n",
    "    policy=MlpPolicy,\n",
    "    env=env,\n",
    "    seed=0,\n",
    "    batch_size=64,\n",
    "    ent_coef=0.0,\n",
    "    learning_rate=0.0003,\n",
    "    n_epochs=10,\n",
    "    n_steps=64,\n",
    ")\n",
    "expert.learn(1000)  # Note: set to 100000 to train a proficient expert"
   ]
  },
  {
   "cell_type": "code",
   "execution_count": 8,
   "id": "2489ad91",
   "metadata": {},
   "outputs": [
    {
     "name": "stdout",
     "output_type": "stream",
     "text": [
      "51.9\n"
     ]
    },
    {
     "name": "stderr",
     "output_type": "stream",
     "text": [
      "/home/jyue86/anaconda3/envs/eecs298/lib/python3.8/site-packages/stable_baselines3/common/evaluation.py:67: UserWarning: Evaluation environment is not wrapped with a ``Monitor`` wrapper. This may result in reporting modified episode lengths and rewards, if other wrappers happen to modify these. Consider wrapping environment first with ``Monitor`` wrapper.\n",
      "  warnings.warn(\n"
     ]
    }
   ],
   "source": [
    "from stable_baselines3.common.evaluation import evaluate_policy\n",
    "\n",
    "reward, _ = evaluate_policy(expert, env, 10)\n",
    "print(reward)"
   ]
  },
  {
   "cell_type": "code",
   "execution_count": 9,
   "id": "65fabdfe",
   "metadata": {},
   "outputs": [],
   "source": [
    "import numpy as np\n",
    "from imitation.data import rollout\n",
    "from imitation.data.wrappers import RolloutInfoWrapper\n",
    "from stable_baselines3.common.vec_env import DummyVecEnv\n",
    "\n",
    "rng = np.random.default_rng()\n",
    "rollouts = rollout.rollout(\n",
    "    expert,\n",
    "    DummyVecEnv([lambda: RolloutInfoWrapper(env)]),\n",
    "    rollout.make_sample_until(min_timesteps=None, min_episodes=50),\n",
    "    rng=rng,\n",
    ")\n",
    "transitions = rollout.flatten_trajectories(rollouts)\n",
    "# transitions have 3 attributes\n",
    "# - obs\n",
    "# - acts aka actions\n",
    "# - next_obs aka next_actions\n",
    "# - dones\n",
    "# - info"
   ]
  },
  {
   "cell_type": "code",
   "execution_count": 9,
   "id": "948dec32",
   "metadata": {},
   "outputs": [
    {
     "data": {
      "text/plain": [
       "Transitions(obs=array([[-1.3357522e-02, -3.5211290e-04,  3.4990080e-02,  1.9791661e-02],\n",
       "       [-1.3364565e-02, -1.9595793e-01,  3.5385914e-02,  3.2330579e-01],\n",
       "       [-1.7283723e-02, -1.3572598e-03,  4.1852027e-02,  4.1988794e-02],\n",
       "       ...,\n",
       "       [-1.2179057e-01, -6.1762249e-01,  1.5395266e-01,  1.0212862e+00],\n",
       "       [-1.3414302e-01, -4.2484939e-01,  1.7437838e-01,  7.8062999e-01],\n",
       "       [-1.4264001e-01, -6.2188470e-01,  1.8999098e-01,  1.1227086e+00]],\n",
       "      dtype=float32), acts=array([0, 1, 0, ..., 1, 0, 1]), infos=array([{}, {}, {}, ..., {}, {}, {}], dtype=object), next_obs=array([[-0.01336456, -0.19595793,  0.03538591,  0.3233058 ],\n",
       "       [-0.01728372, -0.00135726,  0.04185203,  0.04198879],\n",
       "       [-0.01731087, -0.1970536 ,  0.0426918 ,  0.34757715],\n",
       "       ...,\n",
       "       [-0.13414302, -0.4248494 ,  0.17437838,  0.78063   ],\n",
       "       [-0.14264001, -0.6218847 ,  0.18999098,  1.1227086 ],\n",
       "       [-0.1550777 , -0.4296917 ,  0.21244515,  0.8951285 ]],\n",
       "      dtype=float32), dones=array([False, False, False, ..., False, False,  True]))"
      ]
     },
     "execution_count": 9,
     "metadata": {},
     "output_type": "execute_result"
    }
   ],
   "source": [
    "transitions"
   ]
  },
  {
   "cell_type": "code",
   "execution_count": 10,
   "id": "b0aa3acd",
   "metadata": {},
   "outputs": [
    {
     "data": {
      "text/plain": [
       "array([{}, {}, {}, ..., {}, {}, {}], dtype=object)"
      ]
     },
     "execution_count": 10,
     "metadata": {},
     "output_type": "execute_result"
    }
   ],
   "source": [
    "transitions.infos"
   ]
  },
  {
   "cell_type": "code",
   "execution_count": 11,
   "id": "2969c02d",
   "metadata": {},
   "outputs": [
    {
     "data": {
      "text/plain": [
       "(1779,)"
      ]
     },
     "execution_count": 11,
     "metadata": {},
     "output_type": "execute_result"
    }
   ],
   "source": [
    "transitions.infos.shape"
   ]
  },
  {
   "cell_type": "code",
   "execution_count": 7,
   "id": "7707cfa1",
   "metadata": {},
   "outputs": [
    {
     "data": {
      "text/plain": [
       "array([0, 1, 0, ..., 1, 0, 1])"
      ]
     },
     "execution_count": 7,
     "metadata": {},
     "output_type": "execute_result"
    }
   ],
   "source": [
    "transitions.acts"
   ]
  },
  {
   "cell_type": "code",
   "execution_count": 4,
   "id": "fafca3ea",
   "metadata": {},
   "outputs": [],
   "source": [
    "from imitation.algorithms import bc\n",
    "\n",
    "bc_trainer = bc.BC(\n",
    "    observation_space=env.observation_space,\n",
    "    action_space=env.action_space,\n",
    "    demonstrations=transitions,\n",
    "    rng=rng,\n",
    ")"
   ]
  },
  {
   "cell_type": "code",
   "execution_count": 5,
   "id": "47d3b6d1",
   "metadata": {},
   "outputs": [
    {
     "name": "stdout",
     "output_type": "stream",
     "text": [
      "Reward before training: 23.7\n"
     ]
    }
   ],
   "source": [
    "reward_before_training, _ = evaluate_policy(bc_trainer.policy, env, 10)\n",
    "print(f\"Reward before training: {reward_before_training}\")"
   ]
  },
  {
   "cell_type": "code",
   "execution_count": 6,
   "id": "d201c6a4",
   "metadata": {},
   "outputs": [
    {
     "name": "stderr",
     "output_type": "stream",
     "text": [
      "\r",
      "0batch [00:00, ?batch/s]"
     ]
    },
    {
     "name": "stdout",
     "output_type": "stream",
     "text": [
      "---------------------------------\n",
      "| batch_size        | 32        |\n",
      "| bc/               |           |\n",
      "|    batch          | 0         |\n",
      "|    ent_loss       | -0.000693 |\n",
      "|    entropy        | 0.693     |\n",
      "|    epoch          | 0         |\n",
      "|    l2_loss        | 0         |\n",
      "|    l2_norm        | 72.5      |\n",
      "|    loss           | 0.692     |\n",
      "|    neglogp        | 0.693     |\n",
      "|    prob_true_act  | 0.5       |\n",
      "|    samples_so_far | 32        |\n",
      "---------------------------------\n"
     ]
    },
    {
     "name": "stderr",
     "output_type": "stream",
     "text": [
      "54batch [00:00, 534.57batch/s]\n",
      "55batch [00:00, 526.19batch/s]\u001b[A\n"
     ]
    },
    {
     "name": "stdout",
     "output_type": "stream",
     "text": [
      "Reward after training: 62.0\n"
     ]
    }
   ],
   "source": [
    "bc_trainer.train(n_epochs=1)\n",
    "reward_after_training, _ = evaluate_policy(bc_trainer.policy, env, 10)\n",
    "print(f\"Reward after training: {reward_after_training}\")"
   ]
  },
  {
   "cell_type": "code",
   "execution_count": 7,
   "id": "4ac0ba44",
   "metadata": {},
   "outputs": [],
   "source": [
    "bc_trainer.save_policy(\"bc_policy\")\n",
    "# Supposed to use reconstruct policy to load back in"
   ]
  },
  {
   "cell_type": "code",
   "execution_count": 10,
   "id": "32c14a6f",
   "metadata": {},
   "outputs": [
    {
     "name": "stdout",
     "output_type": "stream",
     "text": [
      "Parameter containing:\n",
      "tensor([[-1.9988e-01,  1.2384e-01,  2.1468e-01, -3.8810e-02],\n",
      "        [ 2.4016e-01,  2.1442e-01, -1.4569e-01, -2.7289e-01],\n",
      "        [-2.0511e-01,  1.9610e-01,  4.1891e-02,  1.6776e-01],\n",
      "        [ 1.1887e-01,  8.9274e-02,  2.1588e-01,  1.0640e-01],\n",
      "        [ 1.2598e-01, -1.2922e-01,  4.7004e-02, -7.9553e-02],\n",
      "        [ 2.4999e-01, -1.2543e-01, -4.2739e-01,  2.9047e-01],\n",
      "        [-1.5636e-01, -2.6764e-02,  9.8490e-02, -1.5604e-01],\n",
      "        [-1.0875e-01,  2.8341e-01,  2.3356e-02,  7.9646e-02],\n",
      "        [ 8.0613e-02, -5.7643e-02,  1.3630e-01, -1.8588e-01],\n",
      "        [ 6.0324e-02,  1.1692e-01, -1.2352e-01, -5.3381e-01],\n",
      "        [ 3.1052e-01,  1.4436e-02,  1.2801e-02, -7.9789e-02],\n",
      "        [-1.0405e-01,  2.1224e-01,  5.2555e-02,  2.5662e-02],\n",
      "        [-1.3170e-01, -2.5280e-01,  3.9184e-01, -5.5117e-02],\n",
      "        [-2.1820e-01, -7.3212e-02, -9.7979e-02, -7.8742e-03],\n",
      "        [-1.1662e-01, -1.6924e-01, -6.8760e-03, -1.2541e-01],\n",
      "        [ 6.4953e-02,  9.1821e-02, -4.0011e-02,  1.0102e-01],\n",
      "        [-9.7064e-02,  1.7471e-01,  1.0297e-01,  1.9398e-01],\n",
      "        [ 2.1566e-01,  1.8666e-01,  1.7017e-01,  2.6125e-02],\n",
      "        [ 1.7752e-01,  3.4684e-02, -8.0274e-03, -9.1641e-02],\n",
      "        [ 9.6144e-02,  1.6301e-01,  7.6327e-02, -3.3191e-02],\n",
      "        [ 2.0183e-01, -9.7539e-03, -1.1345e-01, -3.4726e-01],\n",
      "        [ 1.2258e-01,  4.8253e-04,  2.2697e-01,  8.5106e-02],\n",
      "        [-5.7462e-02, -1.7427e-02,  1.1683e-01, -1.2787e-01],\n",
      "        [-1.2988e-01, -7.2352e-02,  1.2772e-01, -6.1066e-01],\n",
      "        [-2.3109e-01, -2.5884e-02, -5.2812e-02, -2.3807e-01],\n",
      "        [ 6.7875e-02, -1.2481e-02, -2.5453e-01, -2.5454e-01],\n",
      "        [-1.7061e-01, -1.0500e-01, -7.7257e-02, -2.8371e-01],\n",
      "        [-2.5341e-01,  1.0011e-02,  4.6371e-03,  2.1664e-01],\n",
      "        [-6.6178e-02,  2.9178e-01,  2.6132e-02, -6.6411e-02],\n",
      "        [ 3.1065e-01,  1.0822e-01, -4.2760e-01,  1.9431e-01],\n",
      "        [ 1.4291e-01, -8.9753e-02,  1.3916e-01, -1.8101e-01],\n",
      "        [-1.6419e-01,  2.7595e-01,  2.8029e-01, -9.5113e-02],\n",
      "        [-1.6451e-01, -9.7231e-02, -9.3702e-02, -3.0565e-02],\n",
      "        [-1.4489e-01, -3.8381e-01, -1.2588e-01, -9.2476e-02],\n",
      "        [-4.3632e-02,  3.8251e-03,  6.8964e-02,  4.9751e-02],\n",
      "        [-5.8476e-02,  5.9301e-02,  7.7115e-02,  1.2307e-01],\n",
      "        [ 8.8281e-02, -1.4848e-01,  1.5766e-01, -1.7237e-01],\n",
      "        [ 3.0034e-01, -2.4857e-01,  2.9676e-01,  1.5278e-01],\n",
      "        [ 1.9725e-01, -1.4486e-02,  1.2993e-01,  2.8121e-02],\n",
      "        [-1.8361e-02,  1.2698e-01, -4.1654e-02,  1.9311e-01],\n",
      "        [-5.1014e-02, -1.5489e-01, -7.9755e-02,  4.0881e-02],\n",
      "        [-6.0457e-02, -1.9627e-01,  5.1149e-01,  2.0545e-02],\n",
      "        [ 3.2104e-01, -2.3732e-01,  1.2621e-01,  7.6670e-02],\n",
      "        [ 1.0744e-01, -2.7250e-01,  7.2237e-02,  1.2514e-01],\n",
      "        [ 2.5011e-01,  3.8318e-01, -1.0669e-01, -1.2550e-01],\n",
      "        [-1.1057e-01,  2.2337e-01,  1.6661e-01, -1.4360e-01],\n",
      "        [-1.1203e-01,  3.7064e-02, -1.1936e-01,  4.4646e-01],\n",
      "        [ 1.7094e-01, -1.9462e-01,  7.0165e-02,  9.3116e-02],\n",
      "        [-4.1998e-02,  4.1334e-01,  3.6364e-02, -2.3032e-01],\n",
      "        [ 1.2491e-01, -2.7390e-01,  2.8398e-01,  2.6202e-01],\n",
      "        [-1.3080e-01, -1.8803e-02,  3.7743e-02, -2.7021e-02],\n",
      "        [-3.5284e-02,  3.0437e-01,  2.3557e-01, -1.0365e-01],\n",
      "        [ 4.1459e-01, -2.6635e-01,  1.7757e-01, -1.3785e-01],\n",
      "        [-6.6601e-02, -4.5230e-02,  2.5447e-01,  1.9343e-01],\n",
      "        [-2.8376e-02, -1.1934e-01, -3.1234e-01, -6.5393e-02],\n",
      "        [ 5.9256e-02,  7.3009e-02,  1.1613e-01,  3.0032e-02],\n",
      "        [-8.9586e-02,  5.2422e-03,  5.4306e-03,  2.9814e-01],\n",
      "        [-9.1724e-02, -2.4380e-01,  6.5110e-02,  1.7878e-02],\n",
      "        [ 1.2677e-01,  9.5566e-02, -1.4449e-02, -6.7223e-02],\n",
      "        [ 8.4391e-02, -9.9261e-02, -1.4996e-01, -6.5738e-02],\n",
      "        [ 1.6369e-01, -1.2581e-01, -1.6795e-01, -1.0993e-01],\n",
      "        [ 2.4576e-01,  2.3725e-01,  2.2348e-01,  2.8097e-01],\n",
      "        [-1.0111e-01, -1.1478e-01,  4.9055e-03,  1.6085e-01],\n",
      "        [-5.2619e-01, -2.9332e-01, -1.7245e-01,  1.0311e-01]],\n",
      "       requires_grad=True)\n",
      "<class 'torch.nn.parameter.Parameter'>\n",
      "Parameter containing:\n",
      "tensor([ 0.0128,  0.0182, -0.0144, -0.0139,  0.0125, -0.0196,  0.0203, -0.0134,\n",
      "         0.0180,  0.0206,  0.0147,  0.0102,  0.0141, -0.0184, -0.0164, -0.0156,\n",
      "        -0.0200, -0.0179,  0.0082,  0.0144,  0.0219, -0.0200,  0.0172,  0.0206,\n",
      "         0.0186,  0.0191,  0.0158, -0.0187,  0.0171, -0.0209,  0.0154,  0.0215,\n",
      "        -0.0037, -0.0170, -0.0167, -0.0090,  0.0203, -0.0188, -0.0170, -0.0182,\n",
      "        -0.0158, -0.0132, -0.0181, -0.0183,  0.0174, -0.0095, -0.0209, -0.0080,\n",
      "         0.0176, -0.0197,  0.0085,  0.0126,  0.0129, -0.0209,  0.0169, -0.0123,\n",
      "        -0.0186, -0.0165,  0.0128, -0.0146,  0.0132,  0.0095, -0.0117, -0.0187],\n",
      "       requires_grad=True)\n",
      "<class 'torch.nn.parameter.Parameter'>\n",
      "Parameter containing:\n",
      "tensor([[-0.1630, -0.0393, -0.0100,  ..., -0.1454, -0.0043, -0.0114],\n",
      "        [ 0.0907,  0.1598,  0.2704,  ...,  0.0696,  0.0393, -0.2985],\n",
      "        [ 0.0508,  0.0338, -0.0760,  ..., -0.0562, -0.2757,  0.2996],\n",
      "        ...,\n",
      "        [-0.0358,  0.1524, -0.0230,  ...,  0.1675,  0.0226, -0.2222],\n",
      "        [-0.1174,  0.2320,  0.1407,  ...,  0.1575,  0.1617,  0.0968],\n",
      "        [-0.0183, -0.0769,  0.1971,  ...,  0.2877,  0.2485,  0.2767]],\n",
      "       requires_grad=True)\n",
      "<class 'torch.nn.parameter.Parameter'>\n",
      "Parameter containing:\n",
      "tensor([ 0.0164,  0.0133, -0.0152, -0.0175, -0.0169,  0.0155,  0.0157,  0.0182,\n",
      "        -0.0170,  0.0171,  0.0164, -0.0150, -0.0157, -0.0176,  0.0186, -0.0160,\n",
      "         0.0178, -0.0178, -0.0150,  0.0182, -0.0155,  0.0178,  0.0168,  0.0146,\n",
      "         0.0147,  0.0178, -0.0160, -0.0181, -0.0160, -0.0154,  0.0185, -0.0159,\n",
      "         0.0166,  0.0160,  0.0172,  0.0168, -0.0143, -0.0158,  0.0165,  0.0164,\n",
      "         0.0156, -0.0150,  0.0184, -0.0157,  0.0155,  0.0174,  0.0150,  0.0149,\n",
      "        -0.0167, -0.0173, -0.0154,  0.0161,  0.0168,  0.0164,  0.0146,  0.0164,\n",
      "        -0.0172, -0.0166,  0.0161,  0.0160,  0.0167, -0.0143, -0.0181, -0.0188],\n",
      "       requires_grad=True)\n",
      "<class 'torch.nn.parameter.Parameter'>\n",
      "Parameter containing:\n",
      "tensor([[ 0.3961, -0.1272, -0.2490, -0.0865],\n",
      "        [ 0.0243,  0.1416, -0.1470, -0.2014],\n",
      "        [ 0.3786, -0.2012, -0.0040, -0.3636],\n",
      "        [-0.1846, -0.1906, -0.1845,  0.0296],\n",
      "        [-0.0784,  0.3479,  0.0765, -0.0058],\n",
      "        [-0.1686, -0.2666, -0.2570,  0.1031],\n",
      "        [-0.1325,  0.1758, -0.0292,  0.0082],\n",
      "        [-0.1048, -0.1553,  0.1866, -0.0188],\n",
      "        [-0.3079, -0.1789, -0.0699, -0.1169],\n",
      "        [-0.3571, -0.0751, -0.2657, -0.0367],\n",
      "        [ 0.0075, -0.1982,  0.2079,  0.4658],\n",
      "        [-0.2123,  0.0512, -0.2894, -0.3220],\n",
      "        [-0.1331, -0.1175, -0.0944, -0.0585],\n",
      "        [ 0.1675,  0.1651,  0.0300,  0.0888],\n",
      "        [-0.2544, -0.0512,  0.1049, -0.1308],\n",
      "        [ 0.1704,  0.0460, -0.1452, -0.0522],\n",
      "        [-0.1170, -0.2981,  0.3135, -0.1537],\n",
      "        [ 0.1623,  0.2064, -0.0269,  0.0134],\n",
      "        [ 0.1501,  0.0548, -0.0492,  0.3031],\n",
      "        [ 0.1167, -0.0336, -0.0146,  0.1815],\n",
      "        [ 0.1967,  0.1066, -0.0186, -0.3918],\n",
      "        [ 0.1142, -0.0602,  0.1430,  0.2522],\n",
      "        [-0.0060,  0.1771,  0.2774,  0.0069],\n",
      "        [ 0.0629,  0.0397, -0.1346, -0.0595],\n",
      "        [ 0.2217,  0.0872, -0.1409,  0.3094],\n",
      "        [-0.1544,  0.0646, -0.3364, -0.0014],\n",
      "        [-0.2360,  0.1305,  0.0233, -0.0643],\n",
      "        [-0.0052,  0.1796, -0.2617,  0.1347],\n",
      "        [ 0.2312,  0.3117, -0.0533,  0.1282],\n",
      "        [ 0.3230, -0.2631,  0.2450,  0.0507],\n",
      "        [ 0.1535, -0.1699, -0.1959,  0.2587],\n",
      "        [-0.1365, -0.0637,  0.1010,  0.0378],\n",
      "        [ 0.0584, -0.0995, -0.0128, -0.1246],\n",
      "        [-0.0530, -0.0069,  0.0525,  0.3063],\n",
      "        [ 0.0147, -0.0912,  0.1797,  0.0871],\n",
      "        [ 0.1555,  0.2088,  0.3887, -0.0997],\n",
      "        [-0.0137,  0.1150,  0.0446, -0.2639],\n",
      "        [-0.0519,  0.0492,  0.2757,  0.1262],\n",
      "        [-0.1421,  0.1008, -0.0183,  0.0292],\n",
      "        [-0.1102,  0.1351, -0.0326,  0.3456],\n",
      "        [-0.2575,  0.3012,  0.1004,  0.2351],\n",
      "        [-0.1207, -0.0894, -0.2240, -0.1140],\n",
      "        [ 0.1369,  0.1554, -0.2139,  0.0155],\n",
      "        [-0.2595,  0.1129, -0.0091,  0.0904],\n",
      "        [-0.1044,  0.0052, -0.0360, -0.0844],\n",
      "        [-0.2429,  0.0264,  0.0517, -0.1777],\n",
      "        [-0.0356,  0.1379, -0.0144, -0.0144],\n",
      "        [-0.1489,  0.3022,  0.0484, -0.0306],\n",
      "        [ 0.2207, -0.1597,  0.3157, -0.0761],\n",
      "        [ 0.3264,  0.1966, -0.2013, -0.1958],\n",
      "        [ 0.2135,  0.3653, -0.1039,  0.0979],\n",
      "        [ 0.0084, -0.0103, -0.2956, -0.1081],\n",
      "        [-0.0461,  0.2458,  0.2344, -0.1057],\n",
      "        [-0.1724,  0.3131, -0.0171,  0.0338],\n",
      "        [ 0.1311, -0.3042, -0.3638,  0.0727],\n",
      "        [ 0.1944, -0.2049,  0.0242, -0.1247],\n",
      "        [-0.2575, -0.0918,  0.0881, -0.1028],\n",
      "        [-0.0675, -0.0453,  0.2632, -0.4089],\n",
      "        [ 0.0609,  0.0617,  0.0785, -0.1779],\n",
      "        [-0.0322, -0.1566,  0.1237, -0.0440],\n",
      "        [-0.0567,  0.0562, -0.2771,  0.0257],\n",
      "        [-0.0715,  0.1908,  0.1058,  0.1016],\n",
      "        [ 0.1203,  0.1136,  0.0644,  0.0417],\n",
      "        [-0.0762, -0.2780,  0.0509,  0.3334]], requires_grad=True)\n",
      "<class 'torch.nn.parameter.Parameter'>\n",
      "Parameter containing:\n",
      "tensor([-0.0546, -0.0596, -0.0521, -0.0545, -0.0446,  0.0521, -0.0279,  0.0550,\n",
      "        -0.0554,  0.0482,  0.0620,  0.0406,  0.0472, -0.0618, -0.0532, -0.0584,\n",
      "        -0.0538, -0.0495,  0.0598,  0.0567,  0.0476,  0.0544,  0.0529,  0.0493,\n",
      "        -0.0335, -0.0589, -0.0567, -0.0638, -0.0445,  0.0467,  0.0502,  0.0611,\n",
      "        -0.0627,  0.0505, -0.0477, -0.0509, -0.0498, -0.0467, -0.0524, -0.0379,\n",
      "         0.0524, -0.0501, -0.0594,  0.0560,  0.0523, -0.0649, -0.0501, -0.0095,\n",
      "        -0.0503, -0.0487,  0.0432, -0.0546, -0.0539,  0.0451,  0.0487,  0.0471,\n",
      "        -0.0497, -0.0548, -0.0506, -0.0482, -0.0515,  0.0472,  0.0501,  0.0457],\n",
      "       requires_grad=True)\n",
      "<class 'torch.nn.parameter.Parameter'>\n",
      "Parameter containing:\n",
      "tensor([[ 0.1160,  0.2517, -0.2476,  ..., -0.2547, -0.0938, -0.4401],\n",
      "        [-0.0978, -0.1497, -0.0713,  ..., -0.0330,  0.2498,  0.2082],\n",
      "        [-0.0998,  0.0747,  0.1537,  ...,  0.4386, -0.3632, -0.1249],\n",
      "        ...,\n",
      "        [-0.1472,  0.0805, -0.1318,  ...,  0.1383, -0.0056, -0.2242],\n",
      "        [ 0.1262, -0.1300,  0.0559,  ..., -0.0498,  0.1339,  0.2640],\n",
      "        [ 0.0585,  0.2579, -0.2076,  ...,  0.1596,  0.0247,  0.1785]],\n",
      "       requires_grad=True)\n",
      "<class 'torch.nn.parameter.Parameter'>\n",
      "Parameter containing:\n",
      "tensor([-0.0418,  0.0425, -0.0428, -0.0428,  0.0436,  0.0439, -0.0511, -0.0428,\n",
      "        -0.0414,  0.0461,  0.0537, -0.0439, -0.0453, -0.0590,  0.0597,  0.0448,\n",
      "        -0.0436, -0.0485,  0.0427,  0.0412,  0.0418, -0.0512, -0.0502,  0.0462,\n",
      "         0.0460,  0.0486,  0.0485,  0.0428,  0.0426,  0.0434, -0.0641,  0.0321,\n",
      "         0.0497, -0.0432,  0.0440,  0.0437,  0.0519, -0.0576,  0.0439, -0.0424,\n",
      "         0.0472,  0.0420,  0.0468, -0.0414,  0.0411,  0.0442,  0.0469, -0.0428,\n",
      "         0.0423, -0.0433, -0.0475, -0.0435,  0.0425,  0.0406, -0.0414,  0.0468,\n",
      "         0.0440, -0.0406, -0.0431, -0.0424, -0.0447, -0.0431,  0.0543, -0.0445],\n",
      "       requires_grad=True)\n",
      "<class 'torch.nn.parameter.Parameter'>\n",
      "Parameter containing:\n",
      "tensor([[ 0.0215,  0.0116, -0.0168, -0.0227, -0.0216,  0.0246,  0.0211,  0.0223,\n",
      "         -0.0227,  0.0230,  0.0209, -0.0204, -0.0206, -0.0215,  0.0256, -0.0225,\n",
      "          0.0222, -0.0152, -0.0212,  0.0213, -0.0205,  0.0228,  0.0168,  0.0175,\n",
      "          0.0185,  0.0194, -0.0247, -0.0176, -0.0234, -0.0230,  0.0274, -0.0087,\n",
      "          0.0208,  0.0208,  0.0191,  0.0216, -0.0197, -0.0248,  0.0216,  0.0221,\n",
      "          0.0194, -0.0222,  0.0163, -0.0234,  0.0215,  0.0193,  0.0178,  0.0172,\n",
      "         -0.0201, -0.0233, -0.0154,  0.0225,  0.0217,  0.0266,  0.0141,  0.0210,\n",
      "         -0.0270, -0.0154,  0.0243,  0.0226,  0.0212, -0.0183, -0.0197, -0.0223],\n",
      "        [-0.0237, -0.0076,  0.0158,  0.0226,  0.0217, -0.0253, -0.0189, -0.0205,\n",
      "          0.0221, -0.0219, -0.0180,  0.0226,  0.0196,  0.0208, -0.0265,  0.0206,\n",
      "         -0.0207,  0.0184,  0.0201, -0.0215,  0.0210, -0.0214, -0.0157, -0.0163,\n",
      "         -0.0181, -0.0199,  0.0236,  0.0145,  0.0235,  0.0238, -0.0252,  0.0093,\n",
      "         -0.0202, -0.0227, -0.0217, -0.0221,  0.0175,  0.0241, -0.0218, -0.0204,\n",
      "         -0.0208,  0.0158, -0.0190,  0.0238, -0.0230, -0.0198, -0.0187, -0.0172,\n",
      "          0.0225,  0.0198,  0.0130, -0.0234, -0.0212, -0.0262, -0.0132, -0.0234,\n",
      "          0.0267,  0.0173, -0.0253, -0.0226, -0.0192,  0.0197,  0.0193,  0.0220]],\n",
      "       requires_grad=True)\n",
      "<class 'torch.nn.parameter.Parameter'>\n",
      "Parameter containing:\n",
      "tensor([ 0.0105, -0.0105], requires_grad=True)\n",
      "<class 'torch.nn.parameter.Parameter'>\n",
      "Parameter containing:\n",
      "tensor([[-0.2899,  0.1161, -0.2377, -0.1313,  0.1624,  0.1829, -0.0745, -0.1972,\n",
      "         -0.3343,  0.0738,  0.0705, -0.0960, -0.1356, -0.0439,  0.0678,  0.1388,\n",
      "         -0.1327, -0.0973,  0.2271,  0.3461,  0.2409, -0.0816, -0.0874,  0.1274,\n",
      "          0.0966,  0.1010,  0.0727,  0.1713,  0.1916,  0.0486, -0.0503,  0.0221,\n",
      "          0.0618, -0.2064,  0.1091,  0.1213,  0.0228, -0.0349,  0.1511, -0.1225,\n",
      "          0.0386,  0.1563,  0.1119, -0.3965,  0.0560,  0.0637,  0.0984, -0.1901,\n",
      "          0.3244, -0.1972, -0.0831, -0.1662,  0.1072,  0.1221, -0.3073,  0.0560,\n",
      "          0.1048, -0.0664, -0.2214, -0.2561, -0.1386, -0.0906,  0.0365, -0.1462]],\n",
      "       requires_grad=True)\n",
      "<class 'torch.nn.parameter.Parameter'>\n",
      "Parameter containing:\n",
      "tensor([0.0407], requires_grad=True)\n",
      "<class 'torch.nn.parameter.Parameter'>\n"
     ]
    }
   ],
   "source": [
    "# Can extract model weights from policy parameters\n",
    "for i in expert.policy.parameters():\n",
    "    print(i)\n",
    "    print(type(i))"
   ]
  },
  {
   "cell_type": "code",
   "execution_count": 15,
   "id": "1c87c559",
   "metadata": {},
   "outputs": [
    {
     "data": {
      "text/plain": [
       "(9155,)"
      ]
     },
     "execution_count": 15,
     "metadata": {},
     "output_type": "execute_result"
    }
   ],
   "source": [
    "expert_weights = expert.policy.parameters_to_vector()\n",
    "expert_weights.shape"
   ]
  },
  {
   "cell_type": "code",
   "execution_count": 16,
   "id": "ff05771f",
   "metadata": {},
   "outputs": [
    {
     "data": {
      "text/plain": [
       "(array([-0.00279474,  0.6086224 , -0.30300206, ...,  0.09945919,\n",
       "         0.16489056,  0.        ], dtype=float32),\n",
       " (2531,))"
      ]
     },
     "execution_count": 16,
     "metadata": {},
     "output_type": "execute_result"
    }
   ],
   "source": [
    "bc_weights = bc_trainer.policy.parameters_to_vector()\n",
    "bc_weights.shape\n",
    "# Hmm, why are the shapes different???"
   ]
  },
  {
   "cell_type": "markdown",
   "id": "28c09e0d",
   "metadata": {},
   "source": [
    "# Now Train BC for Air Hockey"
   ]
  },
  {
   "cell_type": "code",
   "execution_count": 1,
   "id": "833071a5",
   "metadata": {},
   "outputs": [],
   "source": [
    "from air_hockey_challenge.framework.evaluate_agent import evaluate, custom_evaluate\n",
    "from baseline.baseline_agent.baseline_agent import build_agent\n",
    "\n",
    "import pickle"
   ]
  },
  {
   "cell_type": "code",
   "execution_count": 2,
   "id": "ff3b56d0",
   "metadata": {},
   "outputs": [
    {
     "name": "stdout",
     "output_type": "stream",
     "text": [
      "=== CUSTOM EVALUATE ===\n"
     ]
    },
    {
     "name": "stderr",
     "output_type": "stream",
     "text": [
      "\r",
      "  0%|                                                                                                                                                                                                                   | 0/5 [00:00<?, ?it/s]"
     ]
    },
    {
     "name": "stdout",
     "output_type": "stream",
     "text": [
      "Agent:  1 Switch tactic from:  READY  to:  SMASH\n",
      "Agent:  1 Switch tactic from:  SMASH  to:  READY\n"
     ]
    },
    {
     "name": "stderr",
     "output_type": "stream",
     "text": [
      "\r",
      " 20%|████████████████████████████████████████▌                                                                                                                                                                  | 1/5 [00:04<00:19,  4.80s/it]"
     ]
    },
    {
     "name": "stdout",
     "output_type": "stream",
     "text": [
      "Agent:  1 Switch tactic from:  READY  to:  SMASH\n",
      "Agent:  1 Switch tactic from:  SMASH  to:  READY\n"
     ]
    },
    {
     "name": "stderr",
     "output_type": "stream",
     "text": [
      "\r",
      " 40%|█████████████████████████████████████████████████████████████████████████████████▏                                                                                                                         | 2/5 [00:08<00:12,  4.09s/it]"
     ]
    },
    {
     "name": "stdout",
     "output_type": "stream",
     "text": [
      "Agent:  1 Switch tactic from:  READY  to:  SMASH\n",
      "Agent:  1 Switch tactic from:  SMASH  to:  READY\n"
     ]
    },
    {
     "name": "stderr",
     "output_type": "stream",
     "text": [
      "\r",
      " 60%|█████████████████████████████████████████████████████████████████████████████████████████████████████████████████████████▊                                                                                 | 3/5 [00:12<00:08,  4.03s/it]"
     ]
    },
    {
     "name": "stdout",
     "output_type": "stream",
     "text": [
      "Agent:  1 Switch tactic from:  READY  to:  SMASH\n",
      "Agent:  1 Switch tactic from:  SMASH  to:  READY\n"
     ]
    },
    {
     "name": "stderr",
     "output_type": "stream",
     "text": [
      "\r",
      " 80%|██████████████████████████████████████████████████████████████████████████████████████████████████████████████████████████████████████████████████████████████████▍                                        | 4/5 [00:16<00:03,  3.99s/it]"
     ]
    },
    {
     "name": "stdout",
     "output_type": "stream",
     "text": [
      "Agent:  1 Switch tactic from:  READY  to:  SMASH\n",
      "Agent:  1 Switch tactic from:  SMASH  to:  READY\n"
     ]
    },
    {
     "name": "stderr",
     "output_type": "stream",
     "text": [
      "                                                                                                                                                                                                                                              "
     ]
    },
    {
     "name": "stdout",
     "output_type": "stream",
     "text": [
      "[(1.0, 4.0, defaultdict(<class 'list'>, {'Episode 0': ['jerk > 10000', 'max computation_time > 0.02s'], 'Episode 1': ['jerk > 10000'], 'Episode 4': ['jerk > 10000', 'max computation_time > 0.02s']}), dict_keys(['joint_pos_constr', 'joint_vel_constr', 'ee_constr']), 648)]\n",
      "DATA: [(1.0, 4.0, defaultdict(<class 'list'>, {'Episode 0': ['jerk > 10000', 'max computation_time > 0.02s'], 'Episode 1': ['jerk > 10000'], 'Episode 4': ['jerk > 10000', 'max computation_time > 0.02s']}), dict_keys(['joint_pos_constr', 'joint_vel_constr', 'ee_constr']), 648)]\n",
      "=================================================\n",
      "Environment:        3dof-hit\n",
      "Number of Episodes: 5\n",
      "Success:            1.0000\n",
      "Penalty:            4.0\n",
      "Number of Violations: \n",
      "  Jerk              3\n",
      "  Computation Time  2\n",
      "  Total             5\n",
      "-------------------------------------------------\n",
      "\n"
     ]
    },
    {
     "name": "stderr",
     "output_type": "stream",
     "text": [
      "\r"
     ]
    }
   ],
   "source": [
    "config = {'render': True, 'quiet': False, 'n_episodes': 5, 'n_cores': 1, 'log_dir': 'logs', 'seed': None, 'generate_score': 'phase-1', 'env_list': ['3dof-hit']}\n",
    "custom_evaluate(build_agent, **config)"
   ]
  },
  {
   "cell_type": "code",
   "execution_count": 3,
   "id": "203797d3",
   "metadata": {},
   "outputs": [],
   "source": [
    "with open(\"training_data.pkl\", \"rb\") as f:\n",
    "    training_data = pickle.load(f)\n",
    "    obs = training_data[\"obs\"]\n",
    "    actions = training_data[\"actions\"]\n",
    "    next_obs = training_data[\"next_obs\"] # <- for next run, this will be renamed to next obs\n",
    "    dones = training_data[\"dones\"]\n",
    "    info = training_data[\"info\"]"
   ]
  },
  {
   "cell_type": "code",
   "execution_count": 6,
   "id": "37f09a14",
   "metadata": {},
   "outputs": [],
   "source": [
    "from imitation.data.types import Transitions\n",
    "\n",
    "transitions = Transitions(obs=obs, acts=actions, infos=info, next_obs=next_obs, dones=dones)"
   ]
  },
  {
   "cell_type": "code",
   "execution_count": 18,
   "id": "20ccacdb",
   "metadata": {},
   "outputs": [],
   "source": [
    "from air_hockey_challenge.framework.air_hockey_challenge_wrapper import AirHockeyChallengeWrapper\n",
    "import gym\n",
    "\n",
    "mdp = AirHockeyChallengeWrapper(env=\"3dof-hit\")\n",
    "obs_space = mdp.info.observation_space\n",
    "bc_obs_space = gym.spaces.Box(low=obs_space.low, high=obs_space.high, shape=obs_space.shape)\n",
    "action_space = mdp.info.action_space\n",
    "bc_action_space = gym.spaces.Box(low=action_space.low, high=action_space.high, shape=action_space.shape)"
   ]
  },
  {
   "cell_type": "code",
   "execution_count": 19,
   "id": "9d5e5442",
   "metadata": {},
   "outputs": [],
   "source": [
    "from imitation.algorithms import bc\n",
    "import numpy as np\n",
    "\n",
    "rng = np.random.default_rng()\n",
    "bc_trainer = bc.BC(\n",
    "    observation_space=bc_obs_space,\n",
    "    action_space=bc_action_space,\n",
    "    demonstrations=transitions,\n",
    "    rng=rng,\n",
    ")"
   ]
  },
  {
   "cell_type": "code",
   "execution_count": 20,
   "id": "f36f9564",
   "metadata": {},
   "outputs": [
    {
     "name": "stderr",
     "output_type": "stream",
     "text": [
      "0batch [00:00, ?batch/s]\n"
     ]
    },
    {
     "ename": "ValueError",
     "evalue": "Value is not broadcastable with batch_shape+event_shape: torch.Size([32, 2, 3]) vs torch.Size([32, 3]).",
     "output_type": "error",
     "traceback": [
      "\u001b[0;31m---------------------------------------------------------------------------\u001b[0m",
      "\u001b[0;31mValueError\u001b[0m                                Traceback (most recent call last)",
      "Cell \u001b[0;32mIn[20], line 1\u001b[0m\n\u001b[0;32m----> 1\u001b[0m \u001b[43mbc_trainer\u001b[49m\u001b[38;5;241;43m.\u001b[39;49m\u001b[43mtrain\u001b[49m\u001b[43m(\u001b[49m\u001b[43mn_epochs\u001b[49m\u001b[38;5;241;43m=\u001b[39;49m\u001b[38;5;241;43m1\u001b[39;49m\u001b[43m)\u001b[49m\n",
      "File \u001b[0;32m~/anaconda3/envs/eecs298/lib/python3.8/site-packages/imitation/algorithms/bc.py:470\u001b[0m, in \u001b[0;36mBC.train\u001b[0;34m(self, n_epochs, n_batches, on_epoch_end, on_batch_end, log_interval, log_rollouts_venv, log_rollouts_n_episodes, progress_bar, reset_tensorboard)\u001b[0m\n\u001b[1;32m    468\u001b[0m obs \u001b[38;5;241m=\u001b[39m th\u001b[38;5;241m.\u001b[39mas_tensor(batch[\u001b[38;5;124m\"\u001b[39m\u001b[38;5;124mobs\u001b[39m\u001b[38;5;124m\"\u001b[39m], device\u001b[38;5;241m=\u001b[39m\u001b[38;5;28mself\u001b[39m\u001b[38;5;241m.\u001b[39mpolicy\u001b[38;5;241m.\u001b[39mdevice)\u001b[38;5;241m.\u001b[39mdetach()\n\u001b[1;32m    469\u001b[0m acts \u001b[38;5;241m=\u001b[39m th\u001b[38;5;241m.\u001b[39mas_tensor(batch[\u001b[38;5;124m\"\u001b[39m\u001b[38;5;124macts\u001b[39m\u001b[38;5;124m\"\u001b[39m], device\u001b[38;5;241m=\u001b[39m\u001b[38;5;28mself\u001b[39m\u001b[38;5;241m.\u001b[39mpolicy\u001b[38;5;241m.\u001b[39mdevice)\u001b[38;5;241m.\u001b[39mdetach()\n\u001b[0;32m--> 470\u001b[0m training_metrics \u001b[38;5;241m=\u001b[39m \u001b[38;5;28;43mself\u001b[39;49m\u001b[38;5;241;43m.\u001b[39;49m\u001b[43mloss_calculator\u001b[49m\u001b[43m(\u001b[49m\u001b[38;5;28;43mself\u001b[39;49m\u001b[38;5;241;43m.\u001b[39;49m\u001b[43mpolicy\u001b[49m\u001b[43m,\u001b[49m\u001b[43m \u001b[49m\u001b[43mobs\u001b[49m\u001b[43m,\u001b[49m\u001b[43m \u001b[49m\u001b[43macts\u001b[49m\u001b[43m)\u001b[49m\n\u001b[1;32m    472\u001b[0m \u001b[38;5;66;03m# Renormalise the loss to be averaged over the whole\u001b[39;00m\n\u001b[1;32m    473\u001b[0m \u001b[38;5;66;03m# batch size instead of the minibatch size.\u001b[39;00m\n\u001b[1;32m    474\u001b[0m \u001b[38;5;66;03m# If there is an incomplete batch, its gradients will be\u001b[39;00m\n\u001b[1;32m    475\u001b[0m \u001b[38;5;66;03m# smaller, which may be helpful for stability.\u001b[39;00m\n\u001b[1;32m    476\u001b[0m loss \u001b[38;5;241m=\u001b[39m training_metrics\u001b[38;5;241m.\u001b[39mloss \u001b[38;5;241m*\u001b[39m minibatch_size \u001b[38;5;241m/\u001b[39m \u001b[38;5;28mself\u001b[39m\u001b[38;5;241m.\u001b[39mbatch_size\n",
      "File \u001b[0;32m~/anaconda3/envs/eecs298/lib/python3.8/site-packages/imitation/algorithms/bc.py:119\u001b[0m, in \u001b[0;36mBehaviorCloningLossCalculator.__call__\u001b[0;34m(self, policy, obs, acts)\u001b[0m\n\u001b[1;32m    117\u001b[0m obs \u001b[38;5;241m=\u001b[39m util\u001b[38;5;241m.\u001b[39msafe_to_tensor(obs)\n\u001b[1;32m    118\u001b[0m acts \u001b[38;5;241m=\u001b[39m util\u001b[38;5;241m.\u001b[39msafe_to_tensor(acts)\n\u001b[0;32m--> 119\u001b[0m _, log_prob, entropy \u001b[38;5;241m=\u001b[39m \u001b[43mpolicy\u001b[49m\u001b[38;5;241;43m.\u001b[39;49m\u001b[43mevaluate_actions\u001b[49m\u001b[43m(\u001b[49m\u001b[43mobs\u001b[49m\u001b[43m,\u001b[49m\u001b[43m \u001b[49m\u001b[43macts\u001b[49m\u001b[43m)\u001b[49m\n\u001b[1;32m    120\u001b[0m prob_true_act \u001b[38;5;241m=\u001b[39m th\u001b[38;5;241m.\u001b[39mexp(log_prob)\u001b[38;5;241m.\u001b[39mmean()\n\u001b[1;32m    121\u001b[0m log_prob \u001b[38;5;241m=\u001b[39m log_prob\u001b[38;5;241m.\u001b[39mmean()\n",
      "File \u001b[0;32m~/anaconda3/envs/eecs298/lib/python3.8/site-packages/stable_baselines3/common/policies.py:697\u001b[0m, in \u001b[0;36mActorCriticPolicy.evaluate_actions\u001b[0;34m(self, obs, actions)\u001b[0m\n\u001b[1;32m    695\u001b[0m     latent_vf \u001b[38;5;241m=\u001b[39m \u001b[38;5;28mself\u001b[39m\u001b[38;5;241m.\u001b[39mmlp_extractor\u001b[38;5;241m.\u001b[39mforward_critic(vf_features)\n\u001b[1;32m    696\u001b[0m distribution \u001b[38;5;241m=\u001b[39m \u001b[38;5;28mself\u001b[39m\u001b[38;5;241m.\u001b[39m_get_action_dist_from_latent(latent_pi)\n\u001b[0;32m--> 697\u001b[0m log_prob \u001b[38;5;241m=\u001b[39m \u001b[43mdistribution\u001b[49m\u001b[38;5;241;43m.\u001b[39;49m\u001b[43mlog_prob\u001b[49m\u001b[43m(\u001b[49m\u001b[43mactions\u001b[49m\u001b[43m)\u001b[49m\n\u001b[1;32m    698\u001b[0m values \u001b[38;5;241m=\u001b[39m \u001b[38;5;28mself\u001b[39m\u001b[38;5;241m.\u001b[39mvalue_net(latent_vf)\n\u001b[1;32m    699\u001b[0m entropy \u001b[38;5;241m=\u001b[39m distribution\u001b[38;5;241m.\u001b[39mentropy()\n",
      "File \u001b[0;32m~/anaconda3/envs/eecs298/lib/python3.8/site-packages/stable_baselines3/common/distributions.py:175\u001b[0m, in \u001b[0;36mDiagGaussianDistribution.log_prob\u001b[0;34m(self, actions)\u001b[0m\n\u001b[1;32m    167\u001b[0m \u001b[38;5;28;01mdef\u001b[39;00m \u001b[38;5;21mlog_prob\u001b[39m(\u001b[38;5;28mself\u001b[39m, actions: th\u001b[38;5;241m.\u001b[39mTensor) \u001b[38;5;241m-\u001b[39m\u001b[38;5;241m>\u001b[39m th\u001b[38;5;241m.\u001b[39mTensor:\n\u001b[1;32m    168\u001b[0m     \u001b[38;5;124;03m\"\"\"\u001b[39;00m\n\u001b[1;32m    169\u001b[0m \u001b[38;5;124;03m    Get the log probabilities of actions according to the distribution.\u001b[39;00m\n\u001b[1;32m    170\u001b[0m \u001b[38;5;124;03m    Note that you must first call the ``proba_distribution()`` method.\u001b[39;00m\n\u001b[0;32m   (...)\u001b[0m\n\u001b[1;32m    173\u001b[0m \u001b[38;5;124;03m    :return:\u001b[39;00m\n\u001b[1;32m    174\u001b[0m \u001b[38;5;124;03m    \"\"\"\u001b[39;00m\n\u001b[0;32m--> 175\u001b[0m     log_prob \u001b[38;5;241m=\u001b[39m \u001b[38;5;28;43mself\u001b[39;49m\u001b[38;5;241;43m.\u001b[39;49m\u001b[43mdistribution\u001b[49m\u001b[38;5;241;43m.\u001b[39;49m\u001b[43mlog_prob\u001b[49m\u001b[43m(\u001b[49m\u001b[43mactions\u001b[49m\u001b[43m)\u001b[49m\n\u001b[1;32m    176\u001b[0m     \u001b[38;5;28;01mreturn\u001b[39;00m sum_independent_dims(log_prob)\n",
      "File \u001b[0;32m~/anaconda3/envs/eecs298/lib/python3.8/site-packages/torch/distributions/normal.py:79\u001b[0m, in \u001b[0;36mNormal.log_prob\u001b[0;34m(self, value)\u001b[0m\n\u001b[1;32m     77\u001b[0m \u001b[38;5;28;01mdef\u001b[39;00m \u001b[38;5;21mlog_prob\u001b[39m(\u001b[38;5;28mself\u001b[39m, value):\n\u001b[1;32m     78\u001b[0m     \u001b[38;5;28;01mif\u001b[39;00m \u001b[38;5;28mself\u001b[39m\u001b[38;5;241m.\u001b[39m_validate_args:\n\u001b[0;32m---> 79\u001b[0m         \u001b[38;5;28;43mself\u001b[39;49m\u001b[38;5;241;43m.\u001b[39;49m\u001b[43m_validate_sample\u001b[49m\u001b[43m(\u001b[49m\u001b[43mvalue\u001b[49m\u001b[43m)\u001b[49m\n\u001b[1;32m     80\u001b[0m     \u001b[38;5;66;03m# compute the variance\u001b[39;00m\n\u001b[1;32m     81\u001b[0m     var \u001b[38;5;241m=\u001b[39m (\u001b[38;5;28mself\u001b[39m\u001b[38;5;241m.\u001b[39mscale \u001b[38;5;241m*\u001b[39m\u001b[38;5;241m*\u001b[39m \u001b[38;5;241m2\u001b[39m)\n",
      "File \u001b[0;32m~/anaconda3/envs/eecs298/lib/python3.8/site-packages/torch/distributions/distribution.py:288\u001b[0m, in \u001b[0;36mDistribution._validate_sample\u001b[0;34m(self, value)\u001b[0m\n\u001b[1;32m    286\u001b[0m \u001b[38;5;28;01mfor\u001b[39;00m i, j \u001b[38;5;129;01min\u001b[39;00m \u001b[38;5;28mzip\u001b[39m(\u001b[38;5;28mreversed\u001b[39m(actual_shape), \u001b[38;5;28mreversed\u001b[39m(expected_shape)):\n\u001b[1;32m    287\u001b[0m     \u001b[38;5;28;01mif\u001b[39;00m i \u001b[38;5;241m!=\u001b[39m \u001b[38;5;241m1\u001b[39m \u001b[38;5;129;01mand\u001b[39;00m j \u001b[38;5;241m!=\u001b[39m \u001b[38;5;241m1\u001b[39m \u001b[38;5;129;01mand\u001b[39;00m i \u001b[38;5;241m!=\u001b[39m j:\n\u001b[0;32m--> 288\u001b[0m         \u001b[38;5;28;01mraise\u001b[39;00m \u001b[38;5;167;01mValueError\u001b[39;00m(\u001b[38;5;124m'\u001b[39m\u001b[38;5;124mValue is not broadcastable with batch_shape+event_shape: \u001b[39m\u001b[38;5;132;01m{}\u001b[39;00m\u001b[38;5;124m vs \u001b[39m\u001b[38;5;132;01m{}\u001b[39;00m\u001b[38;5;124m.\u001b[39m\u001b[38;5;124m'\u001b[39m\u001b[38;5;241m.\u001b[39m\n\u001b[1;32m    289\u001b[0m                          \u001b[38;5;28mformat\u001b[39m(actual_shape, expected_shape))\n\u001b[1;32m    290\u001b[0m \u001b[38;5;28;01mtry\u001b[39;00m:\n\u001b[1;32m    291\u001b[0m     support \u001b[38;5;241m=\u001b[39m \u001b[38;5;28mself\u001b[39m\u001b[38;5;241m.\u001b[39msupport\n",
      "\u001b[0;31mValueError\u001b[0m: Value is not broadcastable with batch_shape+event_shape: torch.Size([32, 2, 3]) vs torch.Size([32, 3])."
     ]
    }
   ],
   "source": [
    "bc_trainer.train(n_epochs=1)"
   ]
  },
  {
   "cell_type": "code",
   "execution_count": 2,
   "id": "fc840f95",
   "metadata": {},
   "outputs": [
    {
     "name": "stderr",
     "output_type": "stream",
     "text": [
      "\r",
      "  0%|                                                                                           | 0/5 [00:00<?, ?it/s]"
     ]
    },
    {
     "name": "stdout",
     "output_type": "stream",
     "text": [
      "Agent:  1 Switch tactic from:  READY  to:  SMASH\n",
      "Agent:  1 Switch tactic from:  SMASH  to:  READY\n"
     ]
    },
    {
     "name": "stderr",
     "output_type": "stream",
     "text": [
      "\r",
      " 20%|████████████████▌                                                                  | 1/5 [00:03<00:14,  3.74s/it]"
     ]
    },
    {
     "name": "stdout",
     "output_type": "stream",
     "text": [
      "Agent:  1 Switch tactic from:  READY  to:  SMASH\n",
      "Agent:  1 Switch tactic from:  SMASH  to:  READY\n"
     ]
    },
    {
     "name": "stderr",
     "output_type": "stream",
     "text": [
      "\r",
      " 40%|█████████████████████████████████▏                                                 | 2/5 [00:07<00:11,  3.70s/it]"
     ]
    },
    {
     "name": "stdout",
     "output_type": "stream",
     "text": [
      "Agent:  1 Switch tactic from:  READY  to:  SMASH\n",
      "Agent:  1 Switch tactic from:  SMASH  to:  READY\n"
     ]
    },
    {
     "name": "stderr",
     "output_type": "stream",
     "text": [
      "\r",
      " 60%|█████████████████████████████████████████████████▊                                 | 3/5 [00:11<00:07,  3.67s/it]"
     ]
    },
    {
     "name": "stdout",
     "output_type": "stream",
     "text": [
      "Agent:  1 Switch tactic from:  READY  to:  SMASH\n",
      "Agent:  1 Switch tactic from:  SMASH  to:  READY\n"
     ]
    },
    {
     "name": "stderr",
     "output_type": "stream",
     "text": [
      "\r",
      " 80%|██████████████████████████████████████████████████████████████████▍                | 4/5 [00:14<00:03,  3.64s/it]"
     ]
    },
    {
     "name": "stdout",
     "output_type": "stream",
     "text": [
      "Agent:  1 Switch tactic from:  READY  to:  SMASH\n",
      "Agent:  1 Switch tactic from:  SMASH  to:  READY\n"
     ]
    },
    {
     "name": "stderr",
     "output_type": "stream",
     "text": [
      "                                                                                                                      "
     ]
    },
    {
     "name": "stdout",
     "output_type": "stream",
     "text": [
      "=================================================\n",
      "Environment:        3dof-hit\n",
      "Number of Episodes: 5\n",
      "Success:            1.0000\n",
      "Penalty:            6.5\n",
      "Number of Violations: \n",
      "  Jerk              4\n",
      "  Computation Time  5\n",
      "  Total             9\n",
      "-------------------------------------------------\n",
      "\n"
     ]
    },
    {
     "name": "stderr",
     "output_type": "stream",
     "text": [
      "\r"
     ]
    }
   ],
   "source": [
    "config = {'render': True, 'quiet': False, 'n_episodes': 5, 'n_cores': 1, 'log_dir': 'logs', 'seed': None, 'generate_score': 'phase-1', 'env_list': ['3dof-hit']}\n",
    "evaluate(build_agent, **config)"
   ]
  }
 ],
 "metadata": {
  "kernelspec": {
   "display_name": "Python 3 (ipykernel)",
   "language": "python",
   "name": "python3"
  },
  "language_info": {
   "codemirror_mode": {
    "name": "ipython",
    "version": 3
   },
   "file_extension": ".py",
   "mimetype": "text/x-python",
   "name": "python",
   "nbconvert_exporter": "python",
   "pygments_lexer": "ipython3",
   "version": "3.8.16"
  }
 },
 "nbformat": 4,
 "nbformat_minor": 5
}
